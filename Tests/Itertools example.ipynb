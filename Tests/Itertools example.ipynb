{
 "cells": [
  {
   "cell_type": "code",
   "execution_count": 1,
   "id": "61cc12f4",
   "metadata": {},
   "outputs": [],
   "source": [
    "#itertools module"
   ]
  },
  {
   "cell_type": "code",
   "execution_count": 2,
   "id": "0ceec536",
   "metadata": {},
   "outputs": [],
   "source": [
    "import itertools"
   ]
  },
  {
   "cell_type": "code",
   "execution_count": 3,
   "id": "143ffdfe",
   "metadata": {},
   "outputs": [
    {
     "name": "stdout",
     "output_type": "stream",
     "text": [
      "A ['Arthur']\n",
      "C ['Caíque']\n",
      "R ['Riarlei']\n",
      "M ['Marcelo']\n",
      "C ['Celestina']\n",
      "R ['Rita']\n"
     ]
    }
   ],
   "source": [
    "first_letter = lambda x: x[0]\n",
    "names = ['Arthur', 'Caíque', 'Riarlei', 'Marcelo', 'Celestina', 'Rita']\n",
    "for letter, names in itertools.groupby(names, first_letter):\n",
    "    print(letter, list(names))"
   ]
  }
 ],
 "metadata": {
  "kernelspec": {
   "display_name": "Python 3 (ipykernel)",
   "language": "python",
   "name": "python3"
  },
  "language_info": {
   "codemirror_mode": {
    "name": "ipython",
    "version": 3
   },
   "file_extension": ".py",
   "mimetype": "text/x-python",
   "name": "python",
   "nbconvert_exporter": "python",
   "pygments_lexer": "ipython3",
   "version": "3.9.7"
  }
 },
 "nbformat": 4,
 "nbformat_minor": 5
}
