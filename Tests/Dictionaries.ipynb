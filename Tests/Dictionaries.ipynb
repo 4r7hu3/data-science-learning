{
 "cells": [
  {
   "cell_type": "code",
   "execution_count": 14,
   "id": "b5a52be0",
   "metadata": {},
   "outputs": [],
   "source": [
    "#using dictionaries and 'enumarate' method to enumerate the elements of a list "
   ]
  },
  {
   "cell_type": "code",
   "execution_count": 1,
   "id": "13c8ebb8",
   "metadata": {},
   "outputs": [],
   "source": [
    "wizards = ['Gandalf', 'Saruman', 'Radagast']\n",
    "d = {}"
   ]
  },
  {
   "cell_type": "code",
   "execution_count": 2,
   "id": "d1478b27",
   "metadata": {},
   "outputs": [],
   "source": [
    "for i, v in enumerate(wizards):\n",
    "    d[v] = i"
   ]
  },
  {
   "cell_type": "code",
   "execution_count": 3,
   "id": "f983e7bb",
   "metadata": {},
   "outputs": [
    {
     "data": {
      "text/plain": [
       "{'Gandalf': 0, 'Saruman': 1, 'Radagast': 2}"
      ]
     },
     "execution_count": 3,
     "metadata": {},
     "output_type": "execute_result"
    }
   ],
   "source": [
    "d"
   ]
  },
  {
   "cell_type": "code",
   "execution_count": null,
   "id": "69075c4e",
   "metadata": {},
   "outputs": [],
   "source": []
  },
  {
   "cell_type": "code",
   "execution_count": null,
   "id": "f5ceeae7",
   "metadata": {},
   "outputs": [],
   "source": [
    "#using  defaultdict to create a dictionaries of words"
   ]
  },
  {
   "cell_type": "code",
   "execution_count": 4,
   "id": "7d83d203",
   "metadata": {},
   "outputs": [],
   "source": [
    "words = ['Apple', 'Avocado', 'Banana', 'Carob Fruit', 'Apricot', 'Blueberry']"
   ]
  },
  {
   "cell_type": "code",
   "execution_count": 5,
   "id": "8f9b5f5d",
   "metadata": {},
   "outputs": [],
   "source": [
    "from collections import defaultdict"
   ]
  },
  {
   "cell_type": "code",
   "execution_count": 8,
   "id": "ef9025da",
   "metadata": {},
   "outputs": [],
   "source": [
    "dicio = defaultdict(list) #defaultdict needs a type to make it a default type value\n",
    "\n",
    "for word in words:\n",
    "    dicio[word[0]].append(word)"
   ]
  },
  {
   "cell_type": "code",
   "execution_count": 9,
   "id": "4a5a9029",
   "metadata": {},
   "outputs": [
    {
     "data": {
      "text/plain": [
       "defaultdict(list,\n",
       "            {'A': ['Apple', 'Avocado', 'Apricot'],\n",
       "             'B': ['Banana', 'Blueberry'],\n",
       "             'C': ['Carob Fruit']})"
      ]
     },
     "execution_count": 9,
     "metadata": {},
     "output_type": "execute_result"
    }
   ],
   "source": [
    "dicio"
   ]
  },
  {
   "cell_type": "code",
   "execution_count": null,
   "id": "f9621556",
   "metadata": {},
   "outputs": [],
   "source": []
  },
  {
   "cell_type": "code",
   "execution_count": null,
   "id": "aba202e4",
   "metadata": {},
   "outputs": [],
   "source": [
    "#using list and dict comprehensions for the first example"
   ]
  },
  {
   "cell_type": "code",
   "execution_count": 10,
   "id": "77aca5c6",
   "metadata": {},
   "outputs": [],
   "source": [
    "e = {name : index for index, name in enumerate(wizards)}"
   ]
  },
  {
   "cell_type": "code",
   "execution_count": 11,
   "id": "5cb0d0bb",
   "metadata": {},
   "outputs": [
    {
     "data": {
      "text/plain": [
       "{'Gandalf': 0, 'Saruman': 1, 'Radagast': 2}"
      ]
     },
     "execution_count": 11,
     "metadata": {},
     "output_type": "execute_result"
    }
   ],
   "source": [
    "e"
   ]
  },
  {
   "cell_type": "code",
   "execution_count": null,
   "id": "60bc8e1f",
   "metadata": {},
   "outputs": [],
   "source": []
  }
 ],
 "metadata": {
  "kernelspec": {
   "display_name": "Python 3 (ipykernel)",
   "language": "python",
   "name": "python3"
  },
  "language_info": {
   "codemirror_mode": {
    "name": "ipython",
    "version": 3
   },
   "file_extension": ".py",
   "mimetype": "text/x-python",
   "name": "python",
   "nbconvert_exporter": "python",
   "pygments_lexer": "ipython3",
   "version": "3.9.7"
  }
 },
 "nbformat": 4,
 "nbformat_minor": 5
}
