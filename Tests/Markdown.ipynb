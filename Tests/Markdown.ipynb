{
 "cells": [
  {
   "cell_type": "markdown",
   "id": "c5a12fc1-b864-4155-805b-cdcf1e46ad42",
   "metadata": {
    "tags": []
   },
   "source": [
    "# Markdown\n",
    "\n",
    "## Parágrafos em **Markdown**\n",
    "\n",
    "Esse é meu primeiro teste de markdown dentro de um notebook jupyter.  \n",
    "Testando espaçamento com 2x *backspace* + *ENTER*."
   ]
  },
  {
   "cell_type": "markdown",
   "id": "21cb0e76-35ff-4e46-b9e8-faa42d04fed2",
   "metadata": {
    "tags": []
   },
   "source": [
    "## Testando listas\n",
    "\n",
    "### Não Ordenadas\n",
    "\n",
    "* Arthur\n",
    "* Caíque\n",
    "* Riarlei\n",
    "\n",
    "### Ordenadas\n",
    "\n",
    "1. Arthur\n",
    "2. Caíque\n",
    "3. Riarlei"
   ]
  },
  {
   "cell_type": "markdown",
   "id": "9145ad80-a214-41d7-8b31-fdb725e7ae52",
   "metadata": {
    "tags": []
   },
   "source": [
    "### Tabelas\n",
    "\n",
    "Essa é uma tabela centralizada em Markdown: \n",
    "\n",
    "|Nome|Idade|Salário|\n",
    "|:---:|:---:|:---:|\n",
    "|Arthur|20|800|\n",
    "|Caíque|18|400|\n",
    "|Riarlei|16|200|"
   ]
  },
  {
   "cell_type": "markdown",
   "id": "c716814c-1901-492e-baa5-2f9b8bdaa0ce",
   "metadata": {},
   "source": [
    "#### Códigos\n",
    "\n",
    "```python\n",
    "age = 20\n",
    "print(\"My name is Arthur and I'm {}\".format(age))\n",
    "```"
   ]
  },
  {
   "cell_type": "markdown",
   "id": "cd138b6d-edc7-49d1-9dbd-4fde393bb5d6",
   "metadata": {
    "tags": []
   },
   "source": [
    "### Links\n",
    "\n",
    "Here's the link to my projects on Flourish:  \n",
    "[flourish-projects](https://app.flourish.studio/projects \"flourish\")"
   ]
  },
  {
   "cell_type": "markdown",
   "id": "163977b3-8498-4a73-8d87-537ae418e5da",
   "metadata": {
    "tags": []
   },
   "source": [
    "#### Trying to put a live chart\n",
    "\n",
    "![Column chart](image.png)"
   ]
  }
 ],
 "metadata": {
  "kernelspec": {
   "display_name": "Python 3 (ipykernel)",
   "language": "python",
   "name": "python3"
  },
  "language_info": {
   "codemirror_mode": {
    "name": "ipython",
    "version": 3
   },
   "file_extension": ".py",
   "mimetype": "text/x-python",
   "name": "python",
   "nbconvert_exporter": "python",
   "pygments_lexer": "ipython3",
   "version": "3.9.7"
  }
 },
 "nbformat": 4,
 "nbformat_minor": 5
}
