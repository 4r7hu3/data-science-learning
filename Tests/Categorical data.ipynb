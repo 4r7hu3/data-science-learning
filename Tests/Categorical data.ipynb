{
 "cells": [
  {
   "cell_type": "code",
   "execution_count": 1,
   "id": "81709360",
   "metadata": {},
   "outputs": [],
   "source": [
    "import pandas as pd"
   ]
  },
  {
   "cell_type": "code",
   "execution_count": 2,
   "id": "a7f941ce",
   "metadata": {},
   "outputs": [],
   "source": [
    "types = pd.Series(['Sim', 'Não', 'Ingorado']*100)"
   ]
  },
  {
   "cell_type": "code",
   "execution_count": 3,
   "id": "e7507313",
   "metadata": {},
   "outputs": [],
   "source": [
    "cat_types = types.astype('category')"
   ]
  },
  {
   "cell_type": "code",
   "execution_count": 20,
   "id": "a740499f",
   "metadata": {},
   "outputs": [
    {
     "data": {
      "text/plain": [
       "0           Sim\n",
       "1           Não\n",
       "2      Ingorado\n",
       "3           Sim\n",
       "4           Não\n",
       "         ...   \n",
       "295         Não\n",
       "296    Ingorado\n",
       "297         Sim\n",
       "298         Não\n",
       "299    Ingorado\n",
       "Length: 300, dtype: category\n",
       "Categories (3, object): ['Ingorado', 'Não', 'Sim']"
      ]
     },
     "execution_count": 20,
     "metadata": {},
     "output_type": "execute_result"
    }
   ],
   "source": [
    "cat_types"
   ]
  },
  {
   "cell_type": "code",
   "execution_count": 21,
   "id": "289c215a",
   "metadata": {},
   "outputs": [
    {
     "data": {
      "text/plain": [
       "Index(['Ingorado', 'Não', 'Sim'], dtype='object')"
      ]
     },
     "execution_count": 21,
     "metadata": {},
     "output_type": "execute_result"
    }
   ],
   "source": [
    "cat_types.cat.categories"
   ]
  },
  {
   "cell_type": "code",
   "execution_count": 22,
   "id": "217baa2d",
   "metadata": {},
   "outputs": [
    {
     "data": {
      "text/plain": [
       "0           Sim\n",
       "1           Não\n",
       "2      Ingorado\n",
       "3           Sim\n",
       "4           Não\n",
       "         ...   \n",
       "295         Não\n",
       "296    Ingorado\n",
       "297         Sim\n",
       "298         Não\n",
       "299    Ingorado\n",
       "Length: 300, dtype: category\n",
       "Categories (3, object): ['Ingorado' < 'Não' < 'Sim']"
      ]
     },
     "execution_count": 22,
     "metadata": {},
     "output_type": "execute_result"
    }
   ],
   "source": [
    "cat_types.cat.as_ordered()"
   ]
  },
  {
   "cell_type": "code",
   "execution_count": 23,
   "id": "c3ac4642",
   "metadata": {},
   "outputs": [
    {
     "data": {
      "text/plain": [
       "Ingorado    100\n",
       "Não         100\n",
       "Sim         100\n",
       "dtype: int64"
      ]
     },
     "execution_count": 23,
     "metadata": {},
     "output_type": "execute_result"
    }
   ],
   "source": [
    "cat_types.value_counts()"
   ]
  },
  {
   "cell_type": "code",
   "execution_count": 24,
   "id": "4d7570a9",
   "metadata": {},
   "outputs": [
    {
     "data": {
      "text/plain": [
       "560"
      ]
     },
     "execution_count": 24,
     "metadata": {},
     "output_type": "execute_result"
    }
   ],
   "source": [
    "cat_types.memory_usage()"
   ]
  },
  {
   "cell_type": "code",
   "execution_count": 25,
   "id": "d60533e7",
   "metadata": {},
   "outputs": [
    {
     "data": {
      "text/plain": [
       "2528"
      ]
     },
     "execution_count": 25,
     "metadata": {},
     "output_type": "execute_result"
    }
   ],
   "source": [
    "types.memory_usage()"
   ]
  },
  {
   "cell_type": "code",
   "execution_count": 11,
   "id": "32bf70bf",
   "metadata": {},
   "outputs": [
    {
     "data": {
      "text/plain": [
       "4.514285714285714"
      ]
     },
     "execution_count": 11,
     "metadata": {},
     "output_type": "execute_result"
    }
   ],
   "source": [
    "types.memory_usage()/cat_types.memory_usage()"
   ]
  },
  {
   "cell_type": "code",
   "execution_count": 26,
   "id": "a9b52881",
   "metadata": {},
   "outputs": [],
   "source": [
    "# o tipo categorical é muito mais performático para agrupamento\n",
    "# e também para armazenamento/processamento"
   ]
  }
 ],
 "metadata": {
  "kernelspec": {
   "display_name": "Python 3 (ipykernel)",
   "language": "python",
   "name": "python3"
  },
  "language_info": {
   "codemirror_mode": {
    "name": "ipython",
    "version": 3
   },
   "file_extension": ".py",
   "mimetype": "text/x-python",
   "name": "python",
   "nbconvert_exporter": "python",
   "pygments_lexer": "ipython3",
   "version": "3.9.7"
  }
 },
 "nbformat": 4,
 "nbformat_minor": 5
}
