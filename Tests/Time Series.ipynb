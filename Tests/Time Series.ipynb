{
 "cells": [
  {
   "cell_type": "code",
   "execution_count": 3,
   "id": "1f42672c",
   "metadata": {},
   "outputs": [],
   "source": [
    "import pandas as pd\n",
    "import numpy as np\n",
    "from datetime import datetime as dt"
   ]
  },
  {
   "cell_type": "code",
   "execution_count": 9,
   "id": "1b453c33",
   "metadata": {},
   "outputs": [
    {
     "name": "stdout",
     "output_type": "stream",
     "text": [
      "17-04-22 14:13\n"
     ]
    }
   ],
   "source": [
    "now = dt.now().strftime('%d-%m-%y %H:%M')\n",
    "print(now)"
   ]
  },
  {
   "cell_type": "code",
   "execution_count": 10,
   "id": "7f388e01",
   "metadata": {},
   "outputs": [
    {
     "data": {
      "text/plain": [
       "datetime.datetime(2011, 1, 3, 0, 0)"
      ]
     },
     "execution_count": 10,
     "metadata": {},
     "output_type": "execute_result"
    }
   ],
   "source": [
    "value = '2011-01-03'\n",
    "dt.strptime(value, '%Y-%m-%d')"
   ]
  },
  {
   "cell_type": "code",
   "execution_count": 11,
   "id": "b16b14ed",
   "metadata": {},
   "outputs": [
    {
     "data": {
      "text/plain": [
       "[datetime.datetime(2011, 7, 6, 0, 0), datetime.datetime(2011, 8, 6, 0, 0)]"
      ]
     },
     "execution_count": 11,
     "metadata": {},
     "output_type": "execute_result"
    }
   ],
   "source": [
    "datestrs = ['7/06/2011', '8/06/2011']\n",
    "[dt.strptime(x, '%m/%d/%Y') for x in datestrs]"
   ]
  },
  {
   "cell_type": "code",
   "execution_count": null,
   "id": "300270b6",
   "metadata": {},
   "outputs": [],
   "source": []
  },
  {
   "cell_type": "code",
   "execution_count": 12,
   "id": "df821314",
   "metadata": {},
   "outputs": [],
   "source": [
    "from dateutil.parser import parse"
   ]
  },
  {
   "cell_type": "code",
   "execution_count": 15,
   "id": "07a1ebde",
   "metadata": {},
   "outputs": [
    {
     "data": {
      "text/plain": [
       "datetime.datetime(1997, 1, 31, 22, 45)"
      ]
     },
     "execution_count": 15,
     "metadata": {},
     "output_type": "execute_result"
    }
   ],
   "source": [
    "parse('Jan 31, 1997 10:45 pm')"
   ]
  },
  {
   "cell_type": "code",
   "execution_count": 16,
   "id": "6a3e53d1",
   "metadata": {},
   "outputs": [
    {
     "data": {
      "text/plain": [
       "DatetimeIndex(['2011-07-06', '2011-08-06'], dtype='datetime64[ns]', freq=None)"
      ]
     },
     "execution_count": 16,
     "metadata": {},
     "output_type": "execute_result"
    }
   ],
   "source": [
    "pd.to_datetime(datestrs)"
   ]
  },
  {
   "cell_type": "code",
   "execution_count": null,
   "id": "26f85aeb",
   "metadata": {},
   "outputs": [],
   "source": []
  },
  {
   "cell_type": "code",
   "execution_count": 19,
   "id": "a3c9f7e6",
   "metadata": {},
   "outputs": [
    {
     "data": {
      "text/plain": [
       "2011-01-03    1.755179\n",
       "2011-01-04    0.361170\n",
       "2011-01-05    0.117714\n",
       "Freq: D, dtype: float64"
      ]
     },
     "execution_count": 19,
     "metadata": {},
     "output_type": "execute_result"
    }
   ],
   "source": [
    "# Time series are series whose indexes are datetime values\n",
    "\n",
    "ts = pd.Series(np.random.randn(3), index=pd.date_range('2011/01/03', periods=3))\n",
    "ts\n",
    "\n",
    "# pd.date_range creates a sequence of dates with a start and an end\n",
    "#  it also has periods and a frequency, which by default uses days "
   ]
  },
  {
   "cell_type": "code",
   "execution_count": 25,
   "id": "15467f17",
   "metadata": {},
   "outputs": [
    {
     "data": {
      "text/plain": [
       "2000-01-01   -1.419275\n",
       "2000-01-02    0.892114\n",
       "2000-01-03    0.934895\n",
       "2000-01-04    0.799219\n",
       "2000-01-05    0.332084\n",
       "                ...   \n",
       "2002-09-22    0.313673\n",
       "2002-09-23    1.083178\n",
       "2002-09-24    0.071420\n",
       "2002-09-25    0.360579\n",
       "2002-09-26    0.448627\n",
       "Freq: D, Length: 1000, dtype: float64"
      ]
     },
     "execution_count": 25,
     "metadata": {},
     "output_type": "execute_result"
    }
   ],
   "source": [
    "longer_ts = pd.Series(np.random.randn(1000), index=pd.date_range('1/1/2000', periods=1000))\n",
    "longer_ts"
   ]
  },
  {
   "cell_type": "code",
   "execution_count": 29,
   "id": "3004b8b9",
   "metadata": {},
   "outputs": [
    {
     "data": {
      "text/plain": [
       "2001-05-01    0.131825\n",
       "2001-05-02   -0.091856\n",
       "2001-05-03    0.569603\n",
       "2001-05-04   -0.592473\n",
       "2001-05-05   -0.071221\n",
       "2001-05-06    0.835971\n",
       "2001-05-07    0.506042\n",
       "2001-05-08   -0.008831\n",
       "2001-05-09    0.801426\n",
       "2001-05-10    0.376069\n",
       "2001-05-11    0.057799\n",
       "2001-05-12    0.381005\n",
       "2001-05-13   -0.492425\n",
       "2001-05-14   -0.457131\n",
       "2001-05-15   -0.345652\n",
       "2001-05-16   -0.132487\n",
       "2001-05-17   -1.154859\n",
       "2001-05-18   -0.740422\n",
       "2001-05-19   -0.263140\n",
       "2001-05-20   -0.392552\n",
       "2001-05-21    1.134344\n",
       "2001-05-22   -1.596472\n",
       "2001-05-23   -0.907735\n",
       "2001-05-24    0.039829\n",
       "2001-05-25   -0.355135\n",
       "2001-05-26    0.233278\n",
       "2001-05-27    0.576499\n",
       "2001-05-28   -0.780490\n",
       "2001-05-29    0.799605\n",
       "2001-05-30   -1.963912\n",
       "2001-05-31   -1.320262\n",
       "Freq: D, dtype: float64"
      ]
     },
     "execution_count": 29,
     "metadata": {},
     "output_type": "execute_result"
    }
   ],
   "source": [
    "# you can select according to a date, like the following\n",
    "\n",
    "longer_ts['2001-05']"
   ]
  },
  {
   "cell_type": "code",
   "execution_count": 35,
   "id": "08ddd08d",
   "metadata": {},
   "outputs": [
    {
     "data": {
      "text/plain": [
       "2001-06-21   -0.473539\n",
       "2001-06-22   -0.064767\n",
       "2001-06-23   -0.799611\n",
       "2001-06-24    0.120503\n",
       "2001-06-25   -0.242011\n",
       "2001-06-26   -0.216830\n",
       "2001-06-27    0.712966\n",
       "2001-06-28    0.407097\n",
       "2001-06-29   -0.735527\n",
       "2001-06-30    0.085541\n",
       "2001-07-01   -0.205728\n",
       "2001-07-02    0.654834\n",
       "2001-07-03    0.147322\n",
       "2001-07-04    0.055262\n",
       "2001-07-05   -0.062642\n",
       "2001-07-06    0.197620\n",
       "2001-07-07   -0.188172\n",
       "2001-07-08    0.104416\n",
       "2001-07-09    1.340617\n",
       "2001-07-10   -0.645982\n",
       "2001-07-11   -0.934989\n",
       "2001-07-12   -1.562343\n",
       "2001-07-13    0.113502\n",
       "2001-07-14   -0.638896\n",
       "2001-07-15   -0.564383\n",
       "2001-07-16   -1.078465\n",
       "2001-07-17   -0.550001\n",
       "2001-07-18   -0.175505\n",
       "2001-07-19    0.497337\n",
       "2001-07-20   -0.450632\n",
       "2001-07-21    0.569550\n",
       "2001-07-22    0.589269\n",
       "2001-07-23    1.843479\n",
       "2001-07-24   -0.519244\n",
       "2001-07-25   -1.423850\n",
       "2001-07-26    1.312332\n",
       "2001-07-27   -0.160394\n",
       "2001-07-28   -0.909360\n",
       "2001-07-29   -0.808459\n",
       "2001-07-30    0.732658\n",
       "2001-07-31    1.464236\n",
       "Freq: D, dtype: float64"
      ]
     },
     "execution_count": 35,
     "metadata": {},
     "output_type": "execute_result"
    }
   ],
   "source": [
    "# slicing also works for timeseries\n",
    "\n",
    "longer_ts[dt(2001, 6, 21): dt(2001, 7, 31)]"
   ]
  },
  {
   "cell_type": "code",
   "execution_count": 38,
   "id": "554fbc7c",
   "metadata": {},
   "outputs": [
    {
     "data": {
      "text/plain": [
       "2000-06-10   -0.481554\n",
       "2000-06-11    1.739888\n",
       "2000-06-12   -0.163491\n",
       "2000-06-13    0.733631\n",
       "2000-06-14    0.660029\n",
       "2000-06-15    0.346885\n",
       "2000-06-16    2.506639\n",
       "2000-06-17   -0.272505\n",
       "2000-06-18    0.518199\n",
       "2000-06-19   -1.256937\n",
       "2000-06-20   -2.086837\n",
       "2000-06-21    1.045996\n",
       "Freq: D, dtype: float64"
      ]
     },
     "execution_count": 38,
     "metadata": {},
     "output_type": "execute_result"
    }
   ],
   "source": [
    "longer_ts['2000-6-10':'2000-6-21']"
   ]
  },
  {
   "cell_type": "code",
   "execution_count": 39,
   "id": "9d2516d2",
   "metadata": {},
   "outputs": [
    {
     "data": {
      "text/plain": [
       "2011-01-03    1.755179\n",
       "2011-01-04    0.361170\n",
       "2011-01-05    0.117714\n",
       "Freq: D, dtype: float64"
      ]
     },
     "execution_count": 39,
     "metadata": {},
     "output_type": "execute_result"
    }
   ],
   "source": [
    "ts"
   ]
  },
  {
   "cell_type": "code",
   "execution_count": 43,
   "id": "3da18855",
   "metadata": {},
   "outputs": [
    {
     "data": {
      "text/plain": [
       "2011-01-03    0.361170\n",
       "2011-01-04    0.117714\n",
       "2011-01-05         NaN\n",
       "Freq: D, dtype: float64"
      ]
     },
     "execution_count": 43,
     "metadata": {},
     "output_type": "execute_result"
    }
   ],
   "source": [
    "ts.shift(-1)"
   ]
  }
 ],
 "metadata": {
  "kernelspec": {
   "display_name": "Python 3 (ipykernel)",
   "language": "python",
   "name": "python3"
  },
  "language_info": {
   "codemirror_mode": {
    "name": "ipython",
    "version": 3
   },
   "file_extension": ".py",
   "mimetype": "text/x-python",
   "name": "python",
   "nbconvert_exporter": "python",
   "pygments_lexer": "ipython3",
   "version": "3.9.7"
  }
 },
 "nbformat": 4,
 "nbformat_minor": 5
}
