{
 "cells": [
  {
   "cell_type": "code",
   "execution_count": 27,
   "id": "846c02c7",
   "metadata": {},
   "outputs": [],
   "source": [
    "import pandas as pd\n",
    "import numpy as np\n",
    "import pandas_datareader.data as web"
   ]
  },
  {
   "cell_type": "code",
   "execution_count": 28,
   "id": "806725c5",
   "metadata": {},
   "outputs": [],
   "source": [
    "# using the pandas datareader library to obtain a great database"
   ]
  },
  {
   "cell_type": "code",
   "execution_count": 29,
   "id": "a14df19e",
   "metadata": {},
   "outputs": [],
   "source": [
    "all_data = {ticker: web.get_data_yahoo(ticker)\n",
    "           for ticker in ['AAPL', 'IBM', 'MSFT', 'GOOG']}\n",
    "\n",
    "price = pd.DataFrame({ticker: data['Adj Close']\n",
    "                     for ticker, data in all_data.items()})\n",
    "\n",
    "volume = pd.DataFrame({ticker: data['Volume']\n",
    "                      for ticker, data in all_data.items()})"
   ]
  },
  {
   "cell_type": "code",
   "execution_count": 31,
   "id": "bdeaecff",
   "metadata": {},
   "outputs": [
    {
     "data": {
      "text/html": [
       "<div>\n",
       "<style scoped>\n",
       "    .dataframe tbody tr th:only-of-type {\n",
       "        vertical-align: middle;\n",
       "    }\n",
       "\n",
       "    .dataframe tbody tr th {\n",
       "        vertical-align: top;\n",
       "    }\n",
       "\n",
       "    .dataframe thead th {\n",
       "        text-align: right;\n",
       "    }\n",
       "</style>\n",
       "<table border=\"1\" class=\"dataframe\">\n",
       "  <thead>\n",
       "    <tr style=\"text-align: right;\">\n",
       "      <th></th>\n",
       "      <th>AAPL</th>\n",
       "      <th>IBM</th>\n",
       "      <th>MSFT</th>\n",
       "      <th>GOOG</th>\n",
       "    </tr>\n",
       "    <tr>\n",
       "      <th>Date</th>\n",
       "      <th></th>\n",
       "      <th></th>\n",
       "      <th></th>\n",
       "      <th></th>\n",
       "    </tr>\n",
       "  </thead>\n",
       "  <tbody>\n",
       "    <tr>\n",
       "      <th>2022-01-14</th>\n",
       "      <td>0.005111</td>\n",
       "      <td>-0.004081</td>\n",
       "      <td>0.017717</td>\n",
       "      <td>0.004711</td>\n",
       "    </tr>\n",
       "    <tr>\n",
       "      <th>2022-01-18</th>\n",
       "      <td>-0.018894</td>\n",
       "      <td>-0.009463</td>\n",
       "      <td>-0.024339</td>\n",
       "      <td>-0.025010</td>\n",
       "    </tr>\n",
       "    <tr>\n",
       "      <th>2022-01-19</th>\n",
       "      <td>-0.021025</td>\n",
       "      <td>-0.010230</td>\n",
       "      <td>0.002247</td>\n",
       "      <td>-0.004685</td>\n",
       "    </tr>\n",
       "    <tr>\n",
       "      <th>2022-01-20</th>\n",
       "      <td>-0.010347</td>\n",
       "      <td>-0.005776</td>\n",
       "      <td>-0.005703</td>\n",
       "      <td>-0.015816</td>\n",
       "    </tr>\n",
       "    <tr>\n",
       "      <th>2022-01-21</th>\n",
       "      <td>-0.012765</td>\n",
       "      <td>-0.011237</td>\n",
       "      <td>-0.018468</td>\n",
       "      <td>-0.025575</td>\n",
       "    </tr>\n",
       "  </tbody>\n",
       "</table>\n",
       "</div>"
      ],
      "text/plain": [
       "                AAPL       IBM      MSFT      GOOG\n",
       "Date                                              \n",
       "2022-01-14  0.005111 -0.004081  0.017717  0.004711\n",
       "2022-01-18 -0.018894 -0.009463 -0.024339 -0.025010\n",
       "2022-01-19 -0.021025 -0.010230  0.002247 -0.004685\n",
       "2022-01-20 -0.010347 -0.005776 -0.005703 -0.015816\n",
       "2022-01-21 -0.012765 -0.011237 -0.018468 -0.025575"
      ]
     },
     "execution_count": 31,
     "metadata": {},
     "output_type": "execute_result"
    }
   ],
   "source": [
    "returns = price.pct_change() #calculates percentage changes\n",
    "returns.tail() # .()tails takes the last five rows of the set"
   ]
  },
  {
   "cell_type": "code",
   "execution_count": 32,
   "id": "0a283390",
   "metadata": {},
   "outputs": [
    {
     "data": {
      "text/plain": [
       "0.49277468105863065"
      ]
     },
     "execution_count": 32,
     "metadata": {},
     "output_type": "execute_result"
    }
   ],
   "source": [
    "# the 'corr' method for Series gives the correlation coefficient between non 'NaN' value types\n",
    "# similarly, 'cov' gives back the covariance\n",
    "\n",
    "returns['MSFT'].corr(returns['IBM'])"
   ]
  },
  {
   "cell_type": "code",
   "execution_count": 34,
   "id": "fbe9d469",
   "metadata": {},
   "outputs": [
    {
     "data": {
      "text/plain": [
       "0.00014257329333001634"
      ]
     },
     "execution_count": 34,
     "metadata": {},
     "output_type": "execute_result"
    }
   ],
   "source": [
    "returns['MSFT'].cov(returns['IBM'])"
   ]
  },
  {
   "cell_type": "code",
   "execution_count": null,
   "id": "793be49a",
   "metadata": {},
   "outputs": [],
   "source": []
  },
  {
   "cell_type": "code",
   "execution_count": 38,
   "id": "9951e5da",
   "metadata": {},
   "outputs": [
    {
     "data": {
      "text/html": [
       "<div>\n",
       "<style scoped>\n",
       "    .dataframe tbody tr th:only-of-type {\n",
       "        vertical-align: middle;\n",
       "    }\n",
       "\n",
       "    .dataframe tbody tr th {\n",
       "        vertical-align: top;\n",
       "    }\n",
       "\n",
       "    .dataframe thead th {\n",
       "        text-align: right;\n",
       "    }\n",
       "</style>\n",
       "<table border=\"1\" class=\"dataframe\">\n",
       "  <thead>\n",
       "    <tr style=\"text-align: right;\">\n",
       "      <th></th>\n",
       "      <th>AAPL</th>\n",
       "      <th>IBM</th>\n",
       "      <th>MSFT</th>\n",
       "      <th>GOOG</th>\n",
       "    </tr>\n",
       "  </thead>\n",
       "  <tbody>\n",
       "    <tr>\n",
       "      <th>AAPL</th>\n",
       "      <td>1.000000</td>\n",
       "      <td>0.429937</td>\n",
       "      <td>0.736982</td>\n",
       "      <td>0.660682</td>\n",
       "    </tr>\n",
       "    <tr>\n",
       "      <th>IBM</th>\n",
       "      <td>0.429937</td>\n",
       "      <td>1.000000</td>\n",
       "      <td>0.492775</td>\n",
       "      <td>0.466517</td>\n",
       "    </tr>\n",
       "    <tr>\n",
       "      <th>MSFT</th>\n",
       "      <td>0.736982</td>\n",
       "      <td>0.492775</td>\n",
       "      <td>1.000000</td>\n",
       "      <td>0.779492</td>\n",
       "    </tr>\n",
       "    <tr>\n",
       "      <th>GOOG</th>\n",
       "      <td>0.660682</td>\n",
       "      <td>0.466517</td>\n",
       "      <td>0.779492</td>\n",
       "      <td>1.000000</td>\n",
       "    </tr>\n",
       "  </tbody>\n",
       "</table>\n",
       "</div>"
      ],
      "text/plain": [
       "          AAPL       IBM      MSFT      GOOG\n",
       "AAPL  1.000000  0.429937  0.736982  0.660682\n",
       "IBM   0.429937  1.000000  0.492775  0.466517\n",
       "MSFT  0.736982  0.492775  1.000000  0.779492\n",
       "GOOG  0.660682  0.466517  0.779492  1.000000"
      ]
     },
     "execution_count": 38,
     "metadata": {},
     "output_type": "execute_result"
    }
   ],
   "source": [
    "# using directly in the DataFrame, we stay with a matrix\n",
    "# altering the axis parameter to axis=1 makes the calculus for the rows, instead of for the columns\n",
    "\n",
    "returns.corr()\n",
    "# returns.cov()"
   ]
  },
  {
   "cell_type": "code",
   "execution_count": null,
   "id": "85b5076f",
   "metadata": {},
   "outputs": [],
   "source": []
  }
 ],
 "metadata": {
  "kernelspec": {
   "display_name": "Python 3 (ipykernel)",
   "language": "python",
   "name": "python3"
  },
  "language_info": {
   "codemirror_mode": {
    "name": "ipython",
    "version": 3
   },
   "file_extension": ".py",
   "mimetype": "text/x-python",
   "name": "python",
   "nbconvert_exporter": "python",
   "pygments_lexer": "ipython3",
   "version": "3.9.7"
  }
 },
 "nbformat": 4,
 "nbformat_minor": 5
}
