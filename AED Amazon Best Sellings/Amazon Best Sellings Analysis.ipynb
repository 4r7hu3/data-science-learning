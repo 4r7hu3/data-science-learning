{
 "cells": [
  {
   "cell_type": "code",
   "execution_count": 1,
   "id": "582b097c",
   "metadata": {},
   "outputs": [],
   "source": [
    "# importing libraries\n",
    "\n",
    "import pandas as pd\n",
    "import matplotlib.pyplot as plt\n",
    "import seaborn as sns\n",
    "%matplotlib inline"
   ]
  },
  {
   "cell_type": "code",
   "execution_count": 2,
   "id": "b0fbf044",
   "metadata": {},
   "outputs": [
    {
     "name": "stdout",
     "output_type": "stream",
     "text": [
      "<class 'pandas.core.frame.DataFrame'>\n",
      "RangeIndex: 550 entries, 0 to 549\n",
      "Data columns (total 7 columns):\n",
      " #   Column       Non-Null Count  Dtype  \n",
      "---  ------       --------------  -----  \n",
      " 0   Name         550 non-null    object \n",
      " 1   Author       550 non-null    object \n",
      " 2   User Rating  550 non-null    float64\n",
      " 3   Reviews      550 non-null    int64  \n",
      " 4   Price        550 non-null    int64  \n",
      " 5   Year         550 non-null    int64  \n",
      " 6   Genre        550 non-null    object \n",
      "dtypes: float64(1), int64(3), object(3)\n",
      "memory usage: 30.2+ KB\n"
     ]
    }
   ],
   "source": [
    "# data reading and information check\n",
    "\n",
    "data = pd.read_csv('bestsellers with categories.csv')\n",
    "data.info()"
   ]
  },
  {
   "cell_type": "code",
   "execution_count": 3,
   "id": "6edc6279",
   "metadata": {},
   "outputs": [],
   "source": [
    "# changing the types of the variables Name, Author and Genre to string type \n",
    "\n",
    "data[['Name', 'Author', 'Genre']] = data[['Name', 'Author', 'Genre']].astype('string')\n",
    "\n",
    "# in case I'd like to consider just the first editions of each book, I would have done the following: \n",
    "\n",
    "# data.drop_duplicates(subset=['Name'], inplace=True, ignore_index=True) "
   ]
  },
  {
   "cell_type": "code",
   "execution_count": 4,
   "id": "8ccf645f",
   "metadata": {},
   "outputs": [
    {
     "data": {
      "text/html": [
       "<div>\n",
       "<style scoped>\n",
       "    .dataframe tbody tr th:only-of-type {\n",
       "        vertical-align: middle;\n",
       "    }\n",
       "\n",
       "    .dataframe tbody tr th {\n",
       "        vertical-align: top;\n",
       "    }\n",
       "\n",
       "    .dataframe thead th {\n",
       "        text-align: right;\n",
       "    }\n",
       "</style>\n",
       "<table border=\"1\" class=\"dataframe\">\n",
       "  <thead>\n",
       "    <tr style=\"text-align: right;\">\n",
       "      <th></th>\n",
       "      <th>Name</th>\n",
       "      <th>Author</th>\n",
       "      <th>User Rating</th>\n",
       "      <th>Reviews</th>\n",
       "      <th>Price</th>\n",
       "      <th>Year</th>\n",
       "      <th>Genre</th>\n",
       "    </tr>\n",
       "  </thead>\n",
       "  <tbody>\n",
       "    <tr>\n",
       "      <th>count</th>\n",
       "      <td>550</td>\n",
       "      <td>550</td>\n",
       "      <td>550.00</td>\n",
       "      <td>550.00</td>\n",
       "      <td>550.00</td>\n",
       "      <td>550.00</td>\n",
       "      <td>550</td>\n",
       "    </tr>\n",
       "    <tr>\n",
       "      <th>unique</th>\n",
       "      <td>351</td>\n",
       "      <td>248</td>\n",
       "      <td>NaN</td>\n",
       "      <td>NaN</td>\n",
       "      <td>NaN</td>\n",
       "      <td>NaN</td>\n",
       "      <td>2</td>\n",
       "    </tr>\n",
       "    <tr>\n",
       "      <th>top</th>\n",
       "      <td>Publication Manual of the American Psychologic...</td>\n",
       "      <td>Jeff Kinney</td>\n",
       "      <td>NaN</td>\n",
       "      <td>NaN</td>\n",
       "      <td>NaN</td>\n",
       "      <td>NaN</td>\n",
       "      <td>Non Fiction</td>\n",
       "    </tr>\n",
       "    <tr>\n",
       "      <th>freq</th>\n",
       "      <td>10</td>\n",
       "      <td>12</td>\n",
       "      <td>NaN</td>\n",
       "      <td>NaN</td>\n",
       "      <td>NaN</td>\n",
       "      <td>NaN</td>\n",
       "      <td>310</td>\n",
       "    </tr>\n",
       "    <tr>\n",
       "      <th>mean</th>\n",
       "      <td>NaN</td>\n",
       "      <td>NaN</td>\n",
       "      <td>4.62</td>\n",
       "      <td>11953.28</td>\n",
       "      <td>13.10</td>\n",
       "      <td>2014.00</td>\n",
       "      <td>NaN</td>\n",
       "    </tr>\n",
       "    <tr>\n",
       "      <th>std</th>\n",
       "      <td>NaN</td>\n",
       "      <td>NaN</td>\n",
       "      <td>0.23</td>\n",
       "      <td>11731.13</td>\n",
       "      <td>10.84</td>\n",
       "      <td>3.17</td>\n",
       "      <td>NaN</td>\n",
       "    </tr>\n",
       "    <tr>\n",
       "      <th>min</th>\n",
       "      <td>NaN</td>\n",
       "      <td>NaN</td>\n",
       "      <td>3.30</td>\n",
       "      <td>37.00</td>\n",
       "      <td>0.00</td>\n",
       "      <td>2009.00</td>\n",
       "      <td>NaN</td>\n",
       "    </tr>\n",
       "    <tr>\n",
       "      <th>25%</th>\n",
       "      <td>NaN</td>\n",
       "      <td>NaN</td>\n",
       "      <td>4.50</td>\n",
       "      <td>4058.00</td>\n",
       "      <td>7.00</td>\n",
       "      <td>2011.00</td>\n",
       "      <td>NaN</td>\n",
       "    </tr>\n",
       "    <tr>\n",
       "      <th>50%</th>\n",
       "      <td>NaN</td>\n",
       "      <td>NaN</td>\n",
       "      <td>4.70</td>\n",
       "      <td>8580.00</td>\n",
       "      <td>11.00</td>\n",
       "      <td>2014.00</td>\n",
       "      <td>NaN</td>\n",
       "    </tr>\n",
       "    <tr>\n",
       "      <th>75%</th>\n",
       "      <td>NaN</td>\n",
       "      <td>NaN</td>\n",
       "      <td>4.80</td>\n",
       "      <td>17253.25</td>\n",
       "      <td>16.00</td>\n",
       "      <td>2017.00</td>\n",
       "      <td>NaN</td>\n",
       "    </tr>\n",
       "    <tr>\n",
       "      <th>max</th>\n",
       "      <td>NaN</td>\n",
       "      <td>NaN</td>\n",
       "      <td>4.90</td>\n",
       "      <td>87841.00</td>\n",
       "      <td>105.00</td>\n",
       "      <td>2019.00</td>\n",
       "      <td>NaN</td>\n",
       "    </tr>\n",
       "  </tbody>\n",
       "</table>\n",
       "</div>"
      ],
      "text/plain": [
       "                                                     Name       Author  \\\n",
       "count                                                 550          550   \n",
       "unique                                                351          248   \n",
       "top     Publication Manual of the American Psychologic...  Jeff Kinney   \n",
       "freq                                                   10           12   \n",
       "mean                                                  NaN          NaN   \n",
       "std                                                   NaN          NaN   \n",
       "min                                                   NaN          NaN   \n",
       "25%                                                   NaN          NaN   \n",
       "50%                                                   NaN          NaN   \n",
       "75%                                                   NaN          NaN   \n",
       "max                                                   NaN          NaN   \n",
       "\n",
       "        User Rating   Reviews   Price     Year        Genre  \n",
       "count        550.00    550.00  550.00   550.00          550  \n",
       "unique          NaN       NaN     NaN      NaN            2  \n",
       "top             NaN       NaN     NaN      NaN  Non Fiction  \n",
       "freq            NaN       NaN     NaN      NaN          310  \n",
       "mean           4.62  11953.28   13.10  2014.00          NaN  \n",
       "std            0.23  11731.13   10.84     3.17          NaN  \n",
       "min            3.30     37.00    0.00  2009.00          NaN  \n",
       "25%            4.50   4058.00    7.00  2011.00          NaN  \n",
       "50%            4.70   8580.00   11.00  2014.00          NaN  \n",
       "75%            4.80  17253.25   16.00  2017.00          NaN  \n",
       "max            4.90  87841.00  105.00  2019.00          NaN  "
      ]
     },
     "execution_count": 4,
     "metadata": {},
     "output_type": "execute_result"
    }
   ],
   "source": [
    "# basic descriptive measures\n",
    "\n",
    "data.describe(include='all').round(2)"
   ]
  },
  {
   "cell_type": "code",
   "execution_count": 5,
   "id": "ee027734",
   "metadata": {},
   "outputs": [
    {
     "data": {
      "text/plain": [
       "0             Brown Bear, Brown Bear, What Do You See?\n",
       "1    Dog Man: Brawl of the Wild: From the Creator o...\n",
       "2    Dog Man: Fetch-22: From the Creator of Captain...\n",
       "3    Dog Man: For Whom the Ball Rolls: From the Cre...\n",
       "4    Harry Potter and the Goblet of Fire: The Illus...\n",
       "5                            Oh, the Places You'll Go!\n",
       "6               Strange Planet (Strange Planet Series)\n",
       "7                          The Very Hungry Caterpillar\n",
       "8                     The Wonderful Things You Will Be\n",
       "9                               Unfreedom of the Press\n",
       "Name: Name, dtype: string"
      ]
     },
     "execution_count": 5,
     "metadata": {},
     "output_type": "execute_result"
    }
   ],
   "source": [
    "#  which are the first 10 most well rated books from 2019? (alphabetically sorted)\n",
    "\n",
    "df1 = data.loc[data['Year'] == 2019].sort_values(by=['User Rating', 'Name'], ascending=(False, True)).head(10)\n",
    "df1.reset_index(inplace=True, drop=True)\n",
    "df1['Name']"
   ]
  },
  {
   "cell_type": "code",
   "execution_count": 6,
   "id": "5e54baae",
   "metadata": {},
   "outputs": [
    {
     "data": {
      "text/plain": [
       "0             Brown Bear, Brown Bear, What Do You See?\n",
       "1             Brown Bear, Brown Bear, What Do You See?\n",
       "2    Dog Man and Cat Kid: From the Creator of Capta...\n",
       "3    Dog Man: A Tale of Two Kitties: From the Creat...\n",
       "4    Dog Man: Brawl of the Wild: From the Creator o...\n",
       "5    Dog Man: Brawl of the Wild: From the Creator o...\n",
       "6    Dog Man: Fetch-22: From the Creator of Captain...\n",
       "7    Dog Man: For Whom the Ball Rolls: From the Cre...\n",
       "8    Dog Man: Lord of the Fleas: From the Creator o...\n",
       "9    Goodnight, Goodnight Construction Site (Hardco...\n",
       "Name: Name, dtype: string"
      ]
     },
     "execution_count": 6,
     "metadata": {},
     "output_type": "execute_result"
    }
   ],
   "source": [
    "# which are the first 10 most well rated fiction books? (alphabetically sorted)\n",
    "\n",
    "df2 = data.loc[data['Genre'] == 'Fiction'].sort_values(by=['User Rating', 'Name', 'Year'], ascending=(False, True, True)).head(10)\n",
    "df2.reset_index(inplace=True, drop=True)\n",
    "df2['Name']"
   ]
  },
  {
   "cell_type": "code",
   "execution_count": 7,
   "id": "e2ddf18a",
   "metadata": {},
   "outputs": [
    {
     "data": {
      "text/html": [
       "<div>\n",
       "<style scoped>\n",
       "    .dataframe tbody tr th:only-of-type {\n",
       "        vertical-align: middle;\n",
       "    }\n",
       "\n",
       "    .dataframe tbody tr th {\n",
       "        vertical-align: top;\n",
       "    }\n",
       "\n",
       "    .dataframe thead th {\n",
       "        text-align: right;\n",
       "    }\n",
       "</style>\n",
       "<table border=\"1\" class=\"dataframe\">\n",
       "  <thead>\n",
       "    <tr style=\"text-align: right;\">\n",
       "      <th></th>\n",
       "      <th>Author</th>\n",
       "      <th>User Rating</th>\n",
       "    </tr>\n",
       "  </thead>\n",
       "  <tbody>\n",
       "    <tr>\n",
       "      <th>0</th>\n",
       "      <td>Alice Schertle</td>\n",
       "      <td>4.9</td>\n",
       "    </tr>\n",
       "    <tr>\n",
       "      <th>1</th>\n",
       "      <td>Bill Martin Jr.</td>\n",
       "      <td>4.9</td>\n",
       "    </tr>\n",
       "    <tr>\n",
       "      <th>2</th>\n",
       "      <td>Brandon Stanton</td>\n",
       "      <td>4.9</td>\n",
       "    </tr>\n",
       "    <tr>\n",
       "      <th>3</th>\n",
       "      <td>Chip Gaines</td>\n",
       "      <td>4.9</td>\n",
       "    </tr>\n",
       "    <tr>\n",
       "      <th>4</th>\n",
       "      <td>Dav Pilkey</td>\n",
       "      <td>4.9</td>\n",
       "    </tr>\n",
       "  </tbody>\n",
       "</table>\n",
       "</div>"
      ],
      "text/plain": [
       "            Author  User Rating\n",
       "0   Alice Schertle          4.9\n",
       "1  Bill Martin Jr.          4.9\n",
       "2  Brandon Stanton          4.9\n",
       "3      Chip Gaines          4.9\n",
       "4       Dav Pilkey          4.9"
      ]
     },
     "execution_count": 7,
     "metadata": {},
     "output_type": "execute_result"
    }
   ],
   "source": [
    "# which are the first 5 most well rated authors?\n",
    "# for that, I am going to consider only the first editions of each book\n",
    "\n",
    "df0 = data.drop_duplicates(subset=['Name'], ignore_index=True)\n",
    "df3 = df0[['Author', 'User Rating']]\n",
    "df3.sort_values(by=['User Rating', 'Author'], ascending=(False, True)).drop_duplicates(ignore_index=True).head(5)"
   ]
  },
  {
   "cell_type": "code",
   "execution_count": 8,
   "id": "4b09dd77",
   "metadata": {},
   "outputs": [
    {
     "data": {
      "text/plain": [
       "Name           Where the Crawdads Sing\n",
       "Reviews                          87841\n",
       "Author                     Delia Owens\n",
       "User Rating                        4.8\n",
       "Price                               15\n",
       "Year                              2019\n",
       "Genre                          Fiction\n",
       "Name: 0, dtype: object"
      ]
     },
     "execution_count": 8,
     "metadata": {},
     "output_type": "execute_result"
    }
   ],
   "source": [
    "# display the information of the book that has the most reviews\n",
    "\n",
    "df4 = data.groupby(['Name', 'Reviews'], as_index=False).max().sort_values('Reviews', ascending=False).reset_index(drop=True)\n",
    "df4.loc[0]\n",
    "\n",
    "# df4.iat[0, 0] shows a specific value, only one 'cell' of the DataFrame"
   ]
  },
  {
   "cell_type": "code",
   "execution_count": 9,
   "id": "b256e46d",
   "metadata": {},
   "outputs": [
    {
     "data": {
      "text/plain": [
       "4.55"
      ]
     },
     "execution_count": 9,
     "metadata": {},
     "output_type": "execute_result"
    }
   ],
   "source": [
    "# what's the User Rating mean of J.K. Rowling's best sellers?\n",
    "\n",
    "df5 = data.loc[data['Author'].str.contains('Rowling')].reset_index(drop=True).sort_values(by='Name')\n",
    "media_avaliacoes = round(df5['User Rating'].mean(), 2)\n",
    "media_avaliacoes"
   ]
  },
  {
   "cell_type": "code",
   "execution_count": 10,
   "id": "412a2829",
   "metadata": {},
   "outputs": [
    {
     "data": {
      "text/html": [
       "<div>\n",
       "<style scoped>\n",
       "    .dataframe tbody tr th:only-of-type {\n",
       "        vertical-align: middle;\n",
       "    }\n",
       "\n",
       "    .dataframe tbody tr th {\n",
       "        vertical-align: top;\n",
       "    }\n",
       "\n",
       "    .dataframe thead th {\n",
       "        text-align: right;\n",
       "    }\n",
       "</style>\n",
       "<table border=\"1\" class=\"dataframe\">\n",
       "  <thead>\n",
       "    <tr style=\"text-align: right;\">\n",
       "      <th></th>\n",
       "      <th>Name</th>\n",
       "      <th>Author</th>\n",
       "      <th>User Rating</th>\n",
       "      <th>Pass Rate</th>\n",
       "    </tr>\n",
       "  </thead>\n",
       "  <tbody>\n",
       "    <tr>\n",
       "      <th>0</th>\n",
       "      <td>10-Day Green Smoothie Cleanse</td>\n",
       "      <td>JJ Smith</td>\n",
       "      <td>4.7</td>\n",
       "      <td>94.0</td>\n",
       "    </tr>\n",
       "    <tr>\n",
       "      <th>1</th>\n",
       "      <td>11/22/63: A Novel</td>\n",
       "      <td>Stephen King</td>\n",
       "      <td>4.6</td>\n",
       "      <td>92.0</td>\n",
       "    </tr>\n",
       "    <tr>\n",
       "      <th>2</th>\n",
       "      <td>12 Rules for Life: An Antidote to Chaos</td>\n",
       "      <td>Jordan B. Peterson</td>\n",
       "      <td>4.7</td>\n",
       "      <td>94.0</td>\n",
       "    </tr>\n",
       "    <tr>\n",
       "      <th>3</th>\n",
       "      <td>1984 (Signet Classics)</td>\n",
       "      <td>George Orwell</td>\n",
       "      <td>4.7</td>\n",
       "      <td>94.0</td>\n",
       "    </tr>\n",
       "    <tr>\n",
       "      <th>4</th>\n",
       "      <td>5,000 Awesome Facts (About Everything!) (Natio...</td>\n",
       "      <td>National Geographic Kids</td>\n",
       "      <td>4.8</td>\n",
       "      <td>96.0</td>\n",
       "    </tr>\n",
       "    <tr>\n",
       "      <th>...</th>\n",
       "      <td>...</td>\n",
       "      <td>...</td>\n",
       "      <td>...</td>\n",
       "      <td>...</td>\n",
       "    </tr>\n",
       "    <tr>\n",
       "      <th>545</th>\n",
       "      <td>Wrecking Ball (Diary of a Wimpy Kid Book 14)</td>\n",
       "      <td>Jeff Kinney</td>\n",
       "      <td>4.9</td>\n",
       "      <td>98.0</td>\n",
       "    </tr>\n",
       "    <tr>\n",
       "      <th>546</th>\n",
       "      <td>You Are a Badass: How to Stop Doubting Your Gr...</td>\n",
       "      <td>Jen Sincero</td>\n",
       "      <td>4.7</td>\n",
       "      <td>94.0</td>\n",
       "    </tr>\n",
       "    <tr>\n",
       "      <th>547</th>\n",
       "      <td>You Are a Badass: How to Stop Doubting Your Gr...</td>\n",
       "      <td>Jen Sincero</td>\n",
       "      <td>4.7</td>\n",
       "      <td>94.0</td>\n",
       "    </tr>\n",
       "    <tr>\n",
       "      <th>548</th>\n",
       "      <td>You Are a Badass: How to Stop Doubting Your Gr...</td>\n",
       "      <td>Jen Sincero</td>\n",
       "      <td>4.7</td>\n",
       "      <td>94.0</td>\n",
       "    </tr>\n",
       "    <tr>\n",
       "      <th>549</th>\n",
       "      <td>You Are a Badass: How to Stop Doubting Your Gr...</td>\n",
       "      <td>Jen Sincero</td>\n",
       "      <td>4.7</td>\n",
       "      <td>94.0</td>\n",
       "    </tr>\n",
       "  </tbody>\n",
       "</table>\n",
       "<p>550 rows × 4 columns</p>\n",
       "</div>"
      ],
      "text/plain": [
       "                                                  Name  \\\n",
       "0                        10-Day Green Smoothie Cleanse   \n",
       "1                                    11/22/63: A Novel   \n",
       "2              12 Rules for Life: An Antidote to Chaos   \n",
       "3                               1984 (Signet Classics)   \n",
       "4    5,000 Awesome Facts (About Everything!) (Natio...   \n",
       "..                                                 ...   \n",
       "545       Wrecking Ball (Diary of a Wimpy Kid Book 14)   \n",
       "546  You Are a Badass: How to Stop Doubting Your Gr...   \n",
       "547  You Are a Badass: How to Stop Doubting Your Gr...   \n",
       "548  You Are a Badass: How to Stop Doubting Your Gr...   \n",
       "549  You Are a Badass: How to Stop Doubting Your Gr...   \n",
       "\n",
       "                       Author  User Rating  Pass Rate  \n",
       "0                    JJ Smith          4.7       94.0  \n",
       "1                Stephen King          4.6       92.0  \n",
       "2          Jordan B. Peterson          4.7       94.0  \n",
       "3               George Orwell          4.7       94.0  \n",
       "4    National Geographic Kids          4.8       96.0  \n",
       "..                        ...          ...        ...  \n",
       "545               Jeff Kinney          4.9       98.0  \n",
       "546               Jen Sincero          4.7       94.0  \n",
       "547               Jen Sincero          4.7       94.0  \n",
       "548               Jen Sincero          4.7       94.0  \n",
       "549               Jen Sincero          4.7       94.0  \n",
       "\n",
       "[550 rows x 4 columns]"
      ]
     },
     "execution_count": 10,
     "metadata": {},
     "output_type": "execute_result"
    }
   ],
   "source": [
    "# create a column having the percentage of the rating in relation to the max score (5.0)\n",
    "\n",
    "def rate(score):\n",
    "    return score/5*100\n",
    "\n",
    "\n",
    "data['Pass Rate'] = data['User Rating'].map(rate)\n",
    "\n",
    "columns_names=['Name', 'Author', 'User Rating', 'Pass Rate', 'Reviews', 'Price', 'Year', 'Genre']\n",
    "data = data.reindex(columns=columns_names)\n",
    "\n",
    "df6 = data[['Name', 'Author', 'User Rating', 'Pass Rate']]\n",
    "df6"
   ]
  },
  {
   "cell_type": "markdown",
   "id": "a4cbd0f3",
   "metadata": {},
   "source": [
    "<h3> Pearson's Correlation</h3>\n",
    "\n",
    "Here, I am going to try to extract the Pearson's Correlation among the Price and the Genre, but since Genre is a string value instead of a numeric, I applied to it the numbers 0 and 1 (for Non-Fiction and Fiction respectively). \n",
    "\n",
    "<b>But is this a correct method to use?</b>\n",
    "\n",
    "I'm open to comments that might help."
   ]
  },
  {
   "cell_type": "code",
   "execution_count": 11,
   "id": "41b0f334",
   "metadata": {},
   "outputs": [
    {
     "data": {
      "text/plain": [
       "-0.18276059688674628"
      ]
     },
     "execution_count": 11,
     "metadata": {},
     "output_type": "execute_result"
    }
   ],
   "source": [
    "def gen(word):\n",
    "    if word == 'Non Fiction':\n",
    "        return 0\n",
    "    else:\n",
    "        return 1\n",
    "\n",
    "    \n",
    "corr_pear = data['Price'].corr(data['Genre'].map(gen))\n",
    "corr_pear\n",
    "\n",
    "# Therefore, it's possible to see that there's a negative correlation between the variables"
   ]
  },
  {
   "cell_type": "code",
   "execution_count": 12,
   "id": "a1f1f047",
   "metadata": {},
   "outputs": [
    {
     "data": {
      "text/plain": [
       "<AxesSubplot:title={'center':'best sellings genres'}>"
      ]
     },
     "execution_count": 12,
     "metadata": {},
     "output_type": "execute_result"
    },
    {
     "data": {
      "image/png": "[encoded data removed]",
      "text/plain": [
       "<Figure size 432x288 with 1 Axes>"
      ]
     },
     "metadata": {
      "needs_background": "light"
     },
     "output_type": "display_data"
    }
   ],
   "source": [
    "# Plot the amount of types of best sellings in a bar plot using pandas\n",
    "\n",
    "data['Genre'].value_counts().sort_values().plot(kind='barh', title='best sellings genres')"
   ]
  },
  {
   "cell_type": "code",
   "execution_count": 13,
   "id": "983f2d0f",
   "metadata": {},
   "outputs": [
    {
     "data": {
      "image/png": "[encoded data removed]",
      "text/plain": [
       "<Figure size 648x360 with 1 Axes>"
      ]
     },
     "metadata": {
      "needs_background": "light"
     },
     "output_type": "display_data"
    }
   ],
   "source": [
    "# using seaborn\n",
    "\n",
    "genre_counts = data['Genre'].value_counts()\n",
    "plt.figure(figsize=(9, 5))\n",
    "ax0 = sns.barplot(x=genre_counts.values, y=genre_counts.index)\n",
    "ax0.bar_label(ax0.containers[0])\n",
    "plt.title('best selling genres')\n",
    "plt.show()"
   ]
  },
  {
   "cell_type": "code",
   "execution_count": 14,
   "id": "48a2ab11",
   "metadata": {},
   "outputs": [
    {
     "data": {
      "text/plain": [
       "<AxesSubplot:xlabel='Price', ylabel='Count'>"
      ]
     },
     "execution_count": 14,
     "metadata": {},
     "output_type": "execute_result"
    },
    {
     "data": {
      "image/png": "[encoded data removed]",
      "text/plain": [
       "<Figure size 432x288 with 1 Axes>"
      ]
     },
     "metadata": {
      "needs_background": "light"
     },
     "output_type": "display_data"
    }
   ],
   "source": [
    "# create a histogram for the Price and User Rating variables\n",
    "\n",
    "sns.histplot(data=data, x='Price', bins=10, kde=True, color='purple')\n",
    "\n",
    "# Price variable has a strong right-asymmetry"
   ]
  },
  {
   "cell_type": "code",
   "execution_count": 15,
   "id": "8d5aceab",
   "metadata": {},
   "outputs": [
    {
     "data": {
      "text/plain": [
       "<AxesSubplot:xlabel='User Rating', ylabel='Count'>"
      ]
     },
     "execution_count": 15,
     "metadata": {},
     "output_type": "execute_result"
    },
    {
     "data": {
      "image/png": "[encoded data removed]",
      "text/plain": [
       "<Figure size 432x288 with 1 Axes>"
      ]
     },
     "metadata": {
      "needs_background": "light"
     },
     "output_type": "display_data"
    }
   ],
   "source": [
    "sns.histplot(data=data, x='User Rating', bins=10, kde=True, color='lime')\n",
    "\n",
    "# User Rating variable has a left-asymmetry"
   ]
  },
  {
   "cell_type": "code",
   "execution_count": 16,
   "id": "cf9a8699",
   "metadata": {},
   "outputs": [
    {
     "data": {
      "text/plain": [
       "<AxesSubplot:xlabel='Year', ylabel='Price'>"
      ]
     },
     "execution_count": 16,
     "metadata": {},
     "output_type": "execute_result"
    },
    {
     "data": {
      "image/png": "[encoded data removed]",
      "text/plain": [
       "<Figure size 432x288 with 1 Axes>"
      ]
     },
     "metadata": {
      "needs_background": "light"
     },
     "output_type": "display_data"
    }
   ],
   "source": [
    "# bar plot showing prices along the years according to each genre\n",
    "\n",
    "sns.barplot(data=data, x='Year', y='Price', hue='Genre')"
   ]
  },
  {
   "cell_type": "code",
   "execution_count": null,
   "id": "6c380b3c",
   "metadata": {},
   "outputs": [],
   "source": []
  }
 ],
 "metadata": {
  "kernelspec": {
   "display_name": "Python 3 (ipykernel)",
   "language": "python",
   "name": "python3"
  },
  "language_info": {
   "codemirror_mode": {
    "name": "ipython",
    "version": 3
   },
   "file_extension": ".py",
   "mimetype": "text/x-python",
   "name": "python",
   "nbconvert_exporter": "python",
   "pygments_lexer": "ipython3",
   "version": "3.9.7"
  }
 },
 "nbformat": 4,
 "nbformat_minor": 5
}
