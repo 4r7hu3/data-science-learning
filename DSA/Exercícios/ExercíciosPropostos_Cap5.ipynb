{
 "cells": [
  {
   "cell_type": "markdown",
   "id": "3cb05c0f-fa2f-4d1b-8ff2-8e12ea70e019",
   "metadata": {},
   "source": [
    "# Exercícios de Métodos e Funções"
   ]
  },
  {
   "cell_type": "markdown",
   "id": "5ec72048-ace5-4447-8c48-b45a404bccef",
   "metadata": {},
   "source": [
    "## Questão 1"
   ]
  },
  {
   "cell_type": "code",
   "execution_count": 1,
   "id": "af55d72f-4b5a-4fd9-9fe7-2adabdb6a401",
   "metadata": {},
   "outputs": [
    {
     "name": "stdout",
     "output_type": "stream",
     "text": [
      "2\n",
      "4\n",
      "6\n",
      "8\n",
      "10\n",
      "12\n",
      "14\n",
      "16\n",
      "18\n",
      "20\n"
     ]
    }
   ],
   "source": [
    "def imprime_par():\n",
    "    for i in range(1,21):\n",
    "        if i%2 == 0:\n",
    "            print(i)\n",
    "\n",
    "imprime_par()"
   ]
  },
  {
   "cell_type": "markdown",
   "id": "aa73b98e-7b46-41e7-8560-b8b336ca3b7c",
   "metadata": {},
   "source": [
    "## Questão 2"
   ]
  },
  {
   "cell_type": "code",
   "execution_count": 2,
   "id": "4b1e4c0d-8bd7-4e72-9607-a31d293469e1",
   "metadata": {},
   "outputs": [
    {
     "name": "stdout",
     "output_type": "stream",
     "text": [
      "ARTHUR\n"
     ]
    }
   ],
   "source": [
    "def maiuscula(string):\n",
    "    return string.upper()\n",
    "\n",
    "print(maiuscula('Arthur'))"
   ]
  },
  {
   "cell_type": "markdown",
   "id": "15d072e8-ea5e-4ecd-9e99-405a2f5997d3",
   "metadata": {},
   "source": [
    "## Questão 3"
   ]
  },
  {
   "cell_type": "code",
   "execution_count": 3,
   "id": "4abc3a5c-fe70-4594-9c6a-0de7caa914f7",
   "metadata": {},
   "outputs": [
    {
     "name": "stdout",
     "output_type": "stream",
     "text": [
      "[1, 2, 3, 4, 'Arthur', 'Silva']\n"
     ]
    }
   ],
   "source": [
    "def add_lista(lista):\n",
    "    lista.extend(['Arthur', 'Silva'])\n",
    "    print(lista)\n",
    "\n",
    "add_lista([1,2,3,4])"
   ]
  },
  {
   "cell_type": "markdown",
   "id": "f984aa2b-6770-4b6d-824f-3e1a96b7e860",
   "metadata": {},
   "source": [
    "## Questão 4"
   ]
  },
  {
   "cell_type": "code",
   "execution_count": 4,
   "id": "d431de0d-6926-4d9d-a9fd-9daefe0feba7",
   "metadata": {},
   "outputs": [
    {
     "name": "stdout",
     "output_type": "stream",
     "text": [
      "1\n",
      "1\n",
      "2\n",
      "3\n",
      "4\n"
     ]
    }
   ],
   "source": [
    "def varios(arg1, *vartuple):\n",
    "    print(arg1)\n",
    "    for i in vartuple:\n",
    "        print(i)\n",
    "    \n",
    "varios(1)\n",
    "varios(1,2,3,4)"
   ]
  },
  {
   "cell_type": "markdown",
   "id": "437bda57-28ff-4561-899f-a49ae40c8472",
   "metadata": {},
   "source": [
    "## Questão 5"
   ]
  },
  {
   "cell_type": "code",
   "execution_count": 5,
   "id": "5595803e-4127-4c7b-8937-3fa480ed049c",
   "metadata": {},
   "outputs": [
    {
     "data": {
      "text/plain": [
       "5.0"
      ]
     },
     "execution_count": 5,
     "metadata": {},
     "output_type": "execute_result"
    }
   ],
   "source": [
    "soma = lambda x,y: x+y\n",
    "soma(4.1,0.9)"
   ]
  },
  {
   "cell_type": "markdown",
   "id": "1081a275-f3b7-4651-9768-71071d7151f3",
   "metadata": {},
   "source": [
    "## Questão 6"
   ]
  },
  {
   "cell_type": "code",
   "execution_count": 6,
   "id": "cd97c5c1-aa55-4085-a6de-ca4ad018e2fc",
   "metadata": {},
   "outputs": [
    {
     "name": "stdout",
     "output_type": "stream",
     "text": [
      "Dentro da função o total é:  30\n",
      "Fora da função o total é:  0\n"
     ]
    }
   ],
   "source": [
    "total = 0 # variável global\n",
    "def soma( arg1, arg2 ):\n",
    "    total = arg1 + arg2; # variável local\n",
    "    print (\"Dentro da função o total é: \", total)\n",
    "    return total;\n",
    "\n",
    "\n",
    "soma( 10, 20 );\n",
    "print (\"Fora da função o total é: \", total)"
   ]
  },
  {
   "cell_type": "markdown",
   "id": "74197dc1-3d7f-4b17-9392-96b5a3add881",
   "metadata": {},
   "source": [
    "## Questão 7"
   ]
  },
  {
   "cell_type": "code",
   "execution_count": 7,
   "id": "3642146e-9f89-43ee-89de-0c5d0c86f71a",
   "metadata": {},
   "outputs": [
    {
     "name": "stdout",
     "output_type": "stream",
     "text": [
      "[102.56, 97.7, 99.14, 100.04]\n"
     ]
    }
   ],
   "source": [
    "Celsius = [39.2, 36.5, 37.3, 37.8]\n",
    "Fahrenheit = map(lambda x: round((x/5*9)+32, 3), Celsius)\n",
    "print (list(Fahrenheit))"
   ]
  },
  {
   "cell_type": "markdown",
   "id": "994f510c-5c65-475c-bae0-2411d41f5d43",
   "metadata": {},
   "source": [
    "## Questão 8"
   ]
  },
  {
   "cell_type": "code",
   "execution_count": 8,
   "id": "25f82686-dd60-4a7e-bd81-89c63d7a77e0",
   "metadata": {},
   "outputs": [
    {
     "data": {
      "text/plain": [
       "[1, 4, 9, 16, 25, 36, 49, 64, 81, 100]"
      ]
     },
     "execution_count": 8,
     "metadata": {},
     "output_type": "execute_result"
    }
   ],
   "source": [
    "[x**2 for x in range(1,11)]"
   ]
  },
  {
   "cell_type": "markdown",
   "id": "e2c290d0-9895-414a-8fc4-173f1f1a1f39",
   "metadata": {},
   "source": [
    "## Questão 9"
   ]
  },
  {
   "cell_type": "code",
   "execution_count": 9,
   "id": "934fac8f-2648-4597-ac84-1d9dd1452929",
   "metadata": {},
   "outputs": [
    {
     "data": {
      "text/plain": [
       "['maça', 'banana']"
      ]
     },
     "execution_count": 9,
     "metadata": {},
     "output_type": "execute_result"
    }
   ],
   "source": [
    "palavras = [\"maça\", \"coiote\", \"banana\", \"terreno\", \"Python\"]\n",
    "[palavra for palavra in palavras if 'a' in palavra]"
   ]
  },
  {
   "cell_type": "markdown",
   "id": "6d09a21e-c92c-4d76-b3ef-1f19df00ea37",
   "metadata": {},
   "source": [
    "## Questão 10"
   ]
  },
  {
   "cell_type": "code",
   "execution_count": 10,
   "id": "e0535b1e-948c-4966-bf1d-ad9006735617",
   "metadata": {},
   "outputs": [
    {
     "data": {
      "text/plain": [
       "[1, 2, 3, 4]"
      ]
     },
     "execution_count": 10,
     "metadata": {},
     "output_type": "execute_result"
    }
   ],
   "source": [
    "[x for x in range(1,11) if x<5]"
   ]
  },
  {
   "cell_type": "markdown",
   "id": "cb0d268d-c347-4ef2-abda-0e1e074ca2a9",
   "metadata": {},
   "source": [
    "# Exercícios de Loops e Condicionais"
   ]
  },
  {
   "cell_type": "markdown",
   "id": "609a2b9a-329f-43ad-8da9-1c7e2784d372",
   "metadata": {},
   "source": [
    "## Questão 1"
   ]
  },
  {
   "cell_type": "code",
   "execution_count": 11,
   "id": "f0c02864-1ae8-481a-9881-df3fda21c393",
   "metadata": {},
   "outputs": [
    {
     "name": "stdin",
     "output_type": "stream",
     "text": [
      "Qual o dia da semana?  Sexta\n"
     ]
    },
    {
     "name": "stdout",
     "output_type": "stream",
     "text": [
      "\n",
      "Você precisa trabalhar!\n"
     ]
    }
   ],
   "source": [
    "dia = input('Qual o dia da semana? ')\n",
    "\n",
    "if dia == 'Sábado' or dia == 'Domingo':\n",
    "    print('\\nHoje é dia de descanso!')\n",
    "else:\n",
    "    print('\\nVocê precisa trabalhar!')"
   ]
  },
  {
   "cell_type": "markdown",
   "id": "0d7d4d02-f719-4b9c-841f-deac5491fc6a",
   "metadata": {},
   "source": [
    "## Questão 2"
   ]
  },
  {
   "cell_type": "code",
   "execution_count": 12,
   "id": "382eb9a0-4e7a-4abe-b9d1-e7e9ae5f1436",
   "metadata": {},
   "outputs": [
    {
     "data": {
      "text/plain": [
       "True"
      ]
     },
     "execution_count": 12,
     "metadata": {},
     "output_type": "execute_result"
    }
   ],
   "source": [
    "frutas = ['Maçã', 'Morango', 'Pera', 'Mamão', 'Melão']\n",
    "('Morango' or 'morango') in frutas"
   ]
  },
  {
   "cell_type": "markdown",
   "id": "9946e23e-0485-4ecf-a2f5-edc14b60505b",
   "metadata": {},
   "source": [
    "## Questão 3"
   ]
  },
  {
   "cell_type": "code",
   "execution_count": 13,
   "id": "ed5f0339-a1ac-49a7-b0a6-91234289c401",
   "metadata": {},
   "outputs": [
    {
     "data": {
      "text/plain": [
       "[2, 4, 6, 8]"
      ]
     },
     "execution_count": 13,
     "metadata": {},
     "output_type": "execute_result"
    }
   ],
   "source": [
    "t = (1,2,3,4)\n",
    "l = [x*2 for x in t]\n",
    "l"
   ]
  },
  {
   "cell_type": "markdown",
   "id": "56cda450-ba69-43dc-b9c5-cbb905f6644a",
   "metadata": {},
   "source": [
    "## Questão 4"
   ]
  },
  {
   "cell_type": "code",
   "execution_count": 14,
   "id": "94bba88f-13f2-406f-ad73-65f4c0e42a7e",
   "metadata": {},
   "outputs": [
    {
     "data": {
      "text/plain": [
       "[100,\n",
       " 102,\n",
       " 104,\n",
       " 106,\n",
       " 108,\n",
       " 110,\n",
       " 112,\n",
       " 114,\n",
       " 116,\n",
       " 118,\n",
       " 120,\n",
       " 122,\n",
       " 124,\n",
       " 126,\n",
       " 128,\n",
       " 130,\n",
       " 132,\n",
       " 134,\n",
       " 136,\n",
       " 138,\n",
       " 140,\n",
       " 142,\n",
       " 144,\n",
       " 146,\n",
       " 148,\n",
       " 150]"
      ]
     },
     "execution_count": 14,
     "metadata": {},
     "output_type": "execute_result"
    }
   ],
   "source": [
    "[i for i in range(100,151) if i%2 == 0]"
   ]
  },
  {
   "cell_type": "markdown",
   "id": "1643b271-807c-45aa-af21-89bce7f15aee",
   "metadata": {},
   "source": [
    "## Questão 5"
   ]
  },
  {
   "cell_type": "code",
   "execution_count": 15,
   "id": "3a972a06-9588-46ac-9921-005889914e3a",
   "metadata": {},
   "outputs": [
    {
     "name": "stdout",
     "output_type": "stream",
     "text": [
      "40\n",
      "39\n",
      "38\n",
      "37\n",
      "36\n"
     ]
    }
   ],
   "source": [
    "temperatura = 40\n",
    "\n",
    "while temperatura > 35:\n",
    "    print(temperatura)\n",
    "    temperatura-=1"
   ]
  },
  {
   "cell_type": "markdown",
   "id": "60cc2e90-ae8f-4bcf-ad0b-0fed5658b0de",
   "metadata": {},
   "source": [
    "## Questão 6"
   ]
  },
  {
   "cell_type": "code",
   "execution_count": 16,
   "id": "5f0f3f7a-75f6-438d-8051-d69ff2f6e716",
   "metadata": {},
   "outputs": [
    {
     "name": "stdout",
     "output_type": "stream",
     "text": [
      "0\n",
      "1\n",
      "2\n",
      "3\n",
      "4\n",
      "5\n",
      "6\n",
      "7\n",
      "8\n",
      "9\n",
      "10\n",
      "11\n",
      "12\n",
      "13\n",
      "14\n",
      "15\n",
      "16\n",
      "17\n",
      "18\n",
      "19\n",
      "20\n",
      "21\n",
      "22\n",
      "23\n"
     ]
    }
   ],
   "source": [
    "contador = 0\n",
    "\n",
    "while contador < 100:\n",
    "    print(contador)\n",
    "    if contador == 23:\n",
    "        break\n",
    "    contador+=1"
   ]
  },
  {
   "cell_type": "markdown",
   "id": "41ac0f44-8c2a-48a0-8d97-7b5fb2e355bc",
   "metadata": {},
   "source": [
    "## Questão 7"
   ]
  },
  {
   "cell_type": "code",
   "execution_count": 17,
   "id": "839b5807-2d98-464d-9442-5c85a81e474d",
   "metadata": {},
   "outputs": [
    {
     "name": "stdout",
     "output_type": "stream",
     "text": [
      "Lista:  [4]\n",
      "Lista:  [4, 6]\n",
      "Lista:  [4, 6, 8]\n",
      "Lista:  [4, 6, 8, 10]\n",
      "Lista:  [4, 6, 8, 10, 12]\n",
      "Lista:  [4, 6, 8, 10, 12, 14]\n",
      "Lista:  [4, 6, 8, 10, 12, 14, 16]\n",
      "Lista:  [4, 6, 8, 10, 12, 14, 16, 18]\n",
      "Lista:  [4, 6, 8, 10, 12, 14, 16, 18, 20]\n"
     ]
    }
   ],
   "source": [
    "l = []\n",
    "v = 4\n",
    "\n",
    "while v<=20:\n",
    "    if v%2 == 0:\n",
    "        l.append(v)\n",
    "        print('Lista: ', l)\n",
    "    v+=1"
   ]
  },
  {
   "cell_type": "markdown",
   "id": "ef637425-62ef-48c7-b7b3-28db838e2b68",
   "metadata": {},
   "source": [
    "## Questão 8"
   ]
  },
  {
   "cell_type": "code",
   "execution_count": 18,
   "id": "2528da72-fd55-4b05-9918-86b8bdf65c93",
   "metadata": {},
   "outputs": [
    {
     "data": {
      "text/plain": [
       "[5, 7, 9, 11, 13, 15, 17, 19, 21, 23, 25, 27, 29, 31, 33, 35, 37, 39, 41, 43]"
      ]
     },
     "execution_count": 18,
     "metadata": {},
     "output_type": "execute_result"
    }
   ],
   "source": [
    "nums = range(5, 45, 2)\n",
    "list(nums)"
   ]
  },
  {
   "cell_type": "markdown",
   "id": "e9b74302-c5ea-4421-9341-08f78292162d",
   "metadata": {},
   "source": [
    "## Questão 9"
   ]
  },
  {
   "cell_type": "code",
   "execution_count": 19,
   "id": "8fe96ad5-bf1f-47a0-bd63-fd43bf6e256a",
   "metadata": {},
   "outputs": [
    {
     "name": "stdin",
     "output_type": "stream",
     "text": [
      "Qual a temperatura?  23\n"
     ]
    },
    {
     "name": "stdout",
     "output_type": "stream",
     "text": [
      "Busque seus casacos.\n"
     ]
    }
   ],
   "source": [
    "temperatura = float(input('Qual a temperatura? '))\n",
    "if temperatura > 30:\n",
    "    print('Vista roupas leves.')\n",
    "else:\n",
    "    print('Busque seus casacos.')"
   ]
  },
  {
   "cell_type": "markdown",
   "id": "32305b6b-270c-4487-82d9-406a69441dcd",
   "metadata": {},
   "source": [
    "## Questão 10"
   ]
  },
  {
   "cell_type": "code",
   "execution_count": 20,
   "id": "9b81b84c-ab57-467d-8eec-aaca054a86d3",
   "metadata": {},
   "outputs": [
    {
     "name": "stdout",
     "output_type": "stream",
     "text": [
      "Na frase \"A gratidão é a virtude das almas nobres. O quão feliz é uma pessoa depende da profundidade de sua gratidão.\", há 5 letras r.\n"
     ]
    }
   ],
   "source": [
    "frase = \"A gratidão é a virtude das almas nobres. O quão feliz é uma pessoa depende da profundidade de sua gratidão.\" \n",
    "\n",
    "cont = frase.count('r')\n",
    "print('Na frase \"{}\", há {} letras r.'.format(frase, cont))"
   ]
  }
 ],
 "metadata": {
  "kernelspec": {
   "display_name": "Python 3 (ipykernel)",
   "language": "python",
   "name": "python3"
  },
  "language_info": {
   "codemirror_mode": {
    "name": "ipython",
    "version": 3
   },
   "file_extension": ".py",
   "mimetype": "text/x-python",
   "name": "python",
   "nbconvert_exporter": "python",
   "pygments_lexer": "ipython3",
   "version": "3.9.18"
  }
 },
 "nbformat": 4,
 "nbformat_minor": 5
}
