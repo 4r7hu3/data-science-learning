{
 "cells": [
  {
   "cell_type": "markdown",
   "id": "3faa3fa5-39a3-4251-88c4-9054ee5aa71c",
   "metadata": {},
   "source": [
    "# Loops"
   ]
  },
  {
   "cell_type": "markdown",
   "id": "85d1c11f-fb43-4817-931e-a41dbfc49ed0",
   "metadata": {},
   "source": [
    "## For"
   ]
  },
  {
   "cell_type": "code",
   "execution_count": 1,
   "id": "cb4d9127-d04c-49e9-aaa4-1b071fdedfb8",
   "metadata": {},
   "outputs": [
    {
     "name": "stdout",
     "output_type": "stream",
     "text": [
      "\n",
      " 0\n",
      "\n",
      " 0\n",
      "\n",
      " 0\n",
      "\n",
      " 0\n",
      "\n",
      " 0\n",
      "----------\n",
      "\n",
      " 0\n",
      "\n",
      " 1\n",
      "\n",
      " 2\n",
      "\n",
      " 3\n",
      "\n",
      " 4\n",
      "----------\n",
      "\n",
      " 0\n",
      "\n",
      " 2\n",
      "\n",
      " 4\n",
      "\n",
      " 6\n",
      "\n",
      " 8\n",
      "----------\n",
      "\n",
      " 0\n",
      "\n",
      " 3\n",
      "\n",
      " 6\n",
      "\n",
      " 9\n",
      "\n",
      " 12\n",
      "----------\n",
      "\n",
      " 0\n",
      "\n",
      " 4\n",
      "\n",
      " 8\n",
      "\n",
      " 12\n",
      "\n",
      " 16\n",
      "----------\n"
     ]
    }
   ],
   "source": [
    "# for aninhado\n",
    "for i in range(0,5):\n",
    "    for j in range(0,5):\n",
    "        print(\"\\n\", i*j)\n",
    "    print(\"----------\")"
   ]
  },
  {
   "cell_type": "code",
   "execution_count": 2,
   "id": "3745138b-75de-4668-aae7-5fd55b761d11",
   "metadata": {},
   "outputs": [
    {
     "name": "stdout",
     "output_type": "stream",
     "text": [
      "25 é o elemento em comum das listas\n"
     ]
    }
   ],
   "source": [
    "# encontrar elemento em comum nas listas\n",
    "l1 = [5,10,25,30]\n",
    "l2 = [32,45,25,7]\n",
    "\n",
    "for i in l1:\n",
    "    for j in l2:\n",
    "        if i == j:\n",
    "            print('{} é o elemento em comum das listas'.format(i))"
   ]
  },
  {
   "cell_type": "code",
   "execution_count": 3,
   "id": "b0e50fee-523b-4692-9c4e-c2b27e356496",
   "metadata": {},
   "outputs": [
    {
     "data": {
      "text/plain": [
       "170"
      ]
     },
     "execution_count": 3,
     "metadata": {},
     "output_type": "execute_result"
    }
   ],
   "source": [
    "# somar os pares de cada lista\n",
    "l1 = [10,16,24,39,47]\n",
    "l2 = [32,89,47,76,12]\n",
    "soma = 0\n",
    "\n",
    "for i in [l1, l2]:\n",
    "    for j in i:\n",
    "        if j % 2 == 0:\n",
    "            soma += j\n",
    "\n",
    "soma"
   ]
  },
  {
   "cell_type": "code",
   "execution_count": 4,
   "id": "1e2e30d3-46e6-40fd-9c7c-7dd455a13149",
   "metadata": {},
   "outputs": [
    {
     "data": {
      "text/plain": [
       "170"
      ]
     },
     "execution_count": 4,
     "metadata": {},
     "output_type": "execute_result"
    }
   ],
   "source": [
    "# forma alternativa, usando concatenação de listas\n",
    "soma = 0\n",
    "for i in l1+l2:\n",
    "    if i % 2 == 0:\n",
    "        soma += i\n",
    "soma"
   ]
  },
  {
   "cell_type": "code",
   "execution_count": 5,
   "id": "338a553f-b0f6-49ff-b406-eaa28199c84a",
   "metadata": {},
   "outputs": [
    {
     "data": {
      "text/plain": [
       "215"
      ]
     },
     "execution_count": 5,
     "metadata": {},
     "output_type": "execute_result"
    }
   ],
   "source": [
    "# encontrar o maior valor\n",
    "maior = 0\n",
    "lista = [[42, 23 ,34], [100, 215, 114], [10.1, 98.7, 12.3]]\n",
    "\n",
    "for i in lista:\n",
    "    for j in i:\n",
    "        if j > maior:\n",
    "            maior = j\n",
    "maior"
   ]
  },
  {
   "cell_type": "code",
   "execution_count": 6,
   "id": "8236d536-4c32-494d-95d8-dc7b1f1304ba",
   "metadata": {},
   "outputs": [
    {
     "name": "stdout",
     "output_type": "stream",
     "text": [
      "Fulano\n",
      "Beltrano\n",
      "Sicrano\n",
      "\n",
      "0\n",
      "0\n",
      "7\n",
      "\n",
      "('Fulano', 0)\n",
      "('Beltrano', 0)\n",
      "('Sicrano', 7)\n",
      "\n",
      "Fulano 0\n",
      "Beltrano 0\n",
      "Sicrano 7\n"
     ]
    }
   ],
   "source": [
    "# listando as chaves, valores e pares de um dict\n",
    "d = {'Fulano':0, 'Beltrano':0, 'Sicrano':7}\n",
    "\n",
    "# chaves\n",
    "for i in d:\n",
    "    print(i)\n",
    "\n",
    "print('')\n",
    "\n",
    "# valores\n",
    "for i in d.items():\n",
    "    print(i[1])\n",
    "\n",
    "print('')\n",
    "\n",
    "# pares\n",
    "for i in d.items():\n",
    "    print(i)\n",
    "\n",
    "print('')\n",
    "\n",
    "# pares, alternativo\n",
    "for i, j in d.items():\n",
    "    print(i, j)"
   ]
  },
  {
   "cell_type": "markdown",
   "id": "bdb919cf-bf33-4b96-b8ed-9785395fa2dc",
   "metadata": {
    "jp-MarkdownHeadingCollapsed": true
   },
   "source": [
    "## While"
   ]
  },
  {
   "cell_type": "code",
   "execution_count": 7,
   "id": "d596aa4f-b7ec-4eb0-826b-120e6115ece7",
   "metadata": {},
   "outputs": [
    {
     "name": "stdout",
     "output_type": "stream",
     "text": [
      "0\n",
      "1\n",
      "2\n",
      "3\n",
      "4\n",
      "5\n",
      "6\n",
      "7\n",
      "8\n",
      "9\n"
     ]
    }
   ],
   "source": [
    "# imprimindo valores de 0 a 10\n",
    "valor = 0\n",
    "\n",
    "while valor < 10:\n",
    "    print(valor)\n",
    "    valor+=1"
   ]
  },
  {
   "cell_type": "code",
   "execution_count": 8,
   "id": "5d0438c9-48e0-4d84-89f7-94b96d3102f9",
   "metadata": {},
   "outputs": [
    {
     "name": "stdout",
     "output_type": "stream",
     "text": [
      "0\n",
      "1\n",
      "2\n",
      "3\n",
      "\n",
      "C\n",
      "o\n",
      "m\n",
      " \n",
      " \n",
      "s\n",
      "o\n",
      "n\n",
      "o\n"
     ]
    }
   ],
   "source": [
    "# pass, break e continue\n",
    "valor = 0\n",
    "\n",
    "while valor < 10:\n",
    "    if valor == 4:\n",
    "        break\n",
    "    else:\n",
    "        pass\n",
    "    print(valor)\n",
    "    valor+=1\n",
    "\n",
    "print('')\n",
    "\n",
    "frase = 'Com zzzz sono'\n",
    "\n",
    "for i in frase:\n",
    "    if i == 'z':\n",
    "        continue\n",
    "    print(i)"
   ]
  },
  {
   "cell_type": "markdown",
   "id": "04a1e7a5-f794-415c-8255-0fb312241b42",
   "metadata": {},
   "source": [
    "# Tempo de execução"
   ]
  },
  {
   "cell_type": "code",
   "execution_count": 9,
   "id": "80046046-7b16-43ce-9828-5fc5eec8d0d7",
   "metadata": {},
   "outputs": [
    {
     "name": "stdout",
     "output_type": "stream",
     "text": [
      "CPU times: user 105 µs, sys: 18 µs, total: 123 µs\n",
      "Wall time: 128 µs\n"
     ]
    },
    {
     "data": {
      "text/plain": [
       "[2, 3, 5, 7, 11, 13, 17, 19, 23, 29]"
      ]
     },
     "execution_count": 9,
     "metadata": {},
     "output_type": "execute_result"
    }
   ],
   "source": [
    "%%time\n",
    "l = list(range(2,31))\n",
    "primes = []\n",
    "\n",
    "for i in l:\n",
    "    cont = 0\n",
    "    for j in l:\n",
    "        if i%j == 0:\n",
    "            cont+=1\n",
    "    if cont<2:\n",
    "        primes.append(i)\n",
    "\n",
    "primes"
   ]
  },
  {
   "cell_type": "markdown",
   "id": "323db6df-45b9-4bfa-a0fe-476e476d356b",
   "metadata": {},
   "source": [
    "# Função lambda"
   ]
  },
  {
   "cell_type": "code",
   "execution_count": 10,
   "id": "4465772b-393c-457d-82ad-c52c73aeda7d",
   "metadata": {},
   "outputs": [
    {
     "data": {
      "text/plain": [
       "225"
      ]
     },
     "execution_count": 10,
     "metadata": {},
     "output_type": "execute_result"
    }
   ],
   "source": [
    "pw = lambda x: x**2\n",
    "pw(15)"
   ]
  },
  {
   "cell_type": "code",
   "execution_count": 11,
   "id": "1d3b45b0-9451-4319-a34a-ab7dfd9d3aa8",
   "metadata": {},
   "outputs": [
    {
     "data": {
      "text/plain": [
       "10.5"
      ]
     },
     "execution_count": 11,
     "metadata": {},
     "output_type": "execute_result"
    }
   ],
   "source": [
    "mult = lambda x,y: x*y\n",
    "mult(2.1,5)"
   ]
  },
  {
   "cell_type": "markdown",
   "id": "8d7556c2-0603-4657-b303-99e4ca247023",
   "metadata": {},
   "source": [
    "# List e Dict comprehension"
   ]
  },
  {
   "cell_type": "code",
   "execution_count": 12,
   "id": "ddf0ce7a-4eb3-4277-904f-1433e4df15d0",
   "metadata": {},
   "outputs": [
    {
     "data": {
      "text/plain": [
       "['maçã', 'melancia', 'morango']"
      ]
     },
     "execution_count": 12,
     "metadata": {},
     "output_type": "execute_result"
    }
   ],
   "source": [
    "# list comprehension\n",
    "frutas = ['maçã', 'banana', 'abacaxi', 'melancia', 'morango']\n",
    "\n",
    "[fruta for fruta in frutas if 'm' in fruta]"
   ]
  },
  {
   "cell_type": "code",
   "execution_count": 13,
   "id": "1dfeb58c-c72c-434e-8952-ab7b00300a6a",
   "metadata": {},
   "outputs": [
    {
     "data": {
      "text/plain": [
       "{'Bob': 'Aprovado',\n",
       " 'Michael': 'Reprovado',\n",
       " 'Santos': 'Aprovado',\n",
       " 'Indra': 'Reprovado'}"
      ]
     },
     "execution_count": 13,
     "metadata": {},
     "output_type": "execute_result"
    }
   ],
   "source": [
    "# dict comprehension\n",
    "alunos = {'Bob':10, 'Michael':5.5, 'Santos':9.5, 'Indra':6.8}\n",
    "\n",
    "{k:('Aprovado' if v>=7 else 'Reprovado') for (k,v) in alunos.items()}"
   ]
  }
 ],
 "metadata": {
  "kernelspec": {
   "display_name": "Python 3 (ipykernel)",
   "language": "python",
   "name": "python3"
  },
  "language_info": {
   "codemirror_mode": {
    "name": "ipython",
    "version": 3
   },
   "file_extension": ".py",
   "mimetype": "text/x-python",
   "name": "python",
   "nbconvert_exporter": "python",
   "pygments_lexer": "ipython3",
   "version": "3.9.18"
  }
 },
 "nbformat": 4,
 "nbformat_minor": 5
}
