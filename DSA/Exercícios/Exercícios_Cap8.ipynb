{
 "cells": [
  {
   "cell_type": "code",
   "execution_count": 1,
   "id": "e514c6f9-18f1-464b-8f11-fdb388a3f7fa",
   "metadata": {},
   "outputs": [],
   "source": [
    "class Livro():\n",
    "\n",
    "    # construtor\n",
    "    # primeiro elemento da classe\n",
    "    # sempre é executado\n",
    "    def __init__(self, titulo, isbn): # 'self' aponta para o objeto atual da classe\n",
    "        self.titulo = titulo # atributo\n",
    "        self.isbn = isbn # atributo\n",
    "        print('Execução do construtor primeiro')\n",
    "\n",
    "    # método\n",
    "    def imprime_info(self):\n",
    "        print('Título: %s\\nISBN: %d' %(self.titulo, self.isbn))"
   ]
  },
  {
   "cell_type": "code",
   "execution_count": 2,
   "id": "42932dd9-4250-481b-accf-1fd594e37024",
   "metadata": {},
   "outputs": [
    {
     "name": "stdout",
     "output_type": "stream",
     "text": [
      "Execução do construtor primeiro\n"
     ]
    }
   ],
   "source": [
    "Livro1 = Livro('The Lord of the Rings: Two Towers', 123456)"
   ]
  },
  {
   "cell_type": "code",
   "execution_count": 3,
   "id": "f774b9a7-9f65-454c-b8d5-4ccab2f75756",
   "metadata": {},
   "outputs": [
    {
     "name": "stdout",
     "output_type": "stream",
     "text": [
      "Título: The Lord of the Rings: Two Towers\n",
      "ISBN: 123456\n"
     ]
    }
   ],
   "source": [
    "Livro1.imprime_info()"
   ]
  },
  {
   "cell_type": "code",
   "execution_count": 4,
   "id": "9e5e462f-4a6f-4581-bf08-5866ce51d323",
   "metadata": {},
   "outputs": [],
   "source": [
    "class Funcionario():\n",
    "\n",
    "    def __init__(self, nome, cargo, salario, setor):\n",
    "        self.nome = nome\n",
    "        self.cargo = cargo\n",
    "        self.salario = salario\n",
    "        self.setor = setor\n",
    "\n",
    "\n",
    "    def imprime_info(self):\n",
    "        print('Informações do funcionário: \\n---------------------------')\n",
    "        print('Nome: %s\\nCargo: %s\\nSalário: R$%.2f\\nSetor: %s' %(self.nome, self.cargo, self.salario, self.setor))"
   ]
  },
  {
   "cell_type": "code",
   "execution_count": 5,
   "id": "425d24a8-3ad8-4bf9-8b9b-4decdf916411",
   "metadata": {},
   "outputs": [
    {
     "name": "stdout",
     "output_type": "stream",
     "text": [
      "Informações do funcionário: \n",
      "---------------------------\n",
      "Nome: Arthur Silva\n",
      "Cargo: Estagiário - SUPERIOR\n",
      "Salário: R$833.24\n",
      "Setor: PCP\n"
     ]
    }
   ],
   "source": [
    "Func1 = Funcionario('Arthur Silva', 'Estagiário - SUPERIOR', 833.24, 'PCP')\n",
    "Func1.imprime_info()"
   ]
  },
  {
   "cell_type": "code",
   "execution_count": 6,
   "id": "f9d12a66-8b73-4162-bdd7-1022086864cd",
   "metadata": {},
   "outputs": [
    {
     "data": {
      "text/plain": [
       "True"
      ]
     },
     "execution_count": 6,
     "metadata": {},
     "output_type": "execute_result"
    }
   ],
   "source": [
    "hasattr(Func1, 'setor')"
   ]
  },
  {
   "cell_type": "code",
   "execution_count": 7,
   "id": "fa86fe06-58fa-4024-bdec-a65d5f5270fb",
   "metadata": {},
   "outputs": [
    {
     "data": {
      "text/plain": [
       "'PCP'"
      ]
     },
     "execution_count": 7,
     "metadata": {},
     "output_type": "execute_result"
    }
   ],
   "source": [
    "getattr(Func1, 'setor')"
   ]
  },
  {
   "cell_type": "code",
   "execution_count": 8,
   "id": "ed7e2aed-5197-4bdf-bd12-f0d1f4bb77bd",
   "metadata": {},
   "outputs": [],
   "source": [
    "setattr(Func1, 'salario', 758.49)"
   ]
  },
  {
   "cell_type": "code",
   "execution_count": 9,
   "id": "79685f6d-9f04-4d33-bf29-7e9035a6d07c",
   "metadata": {},
   "outputs": [
    {
     "data": {
      "text/plain": [
       "758.49"
      ]
     },
     "execution_count": 9,
     "metadata": {},
     "output_type": "execute_result"
    }
   ],
   "source": [
    "getattr(Func1, 'salario')"
   ]
  },
  {
   "cell_type": "code",
   "execution_count": 10,
   "id": "c8163871-869b-4bf7-a78d-d1ade7ec2b1f",
   "metadata": {},
   "outputs": [],
   "source": [
    "delattr(Func1, 'salario')"
   ]
  },
  {
   "cell_type": "code",
   "execution_count": 11,
   "id": "7ef5fd25-cc78-47b3-893f-e797d48e45d2",
   "metadata": {},
   "outputs": [
    {
     "data": {
      "text/plain": [
       "False"
      ]
     },
     "execution_count": 11,
     "metadata": {},
     "output_type": "execute_result"
    }
   ],
   "source": [
    "hasattr(Func1, 'salario')"
   ]
  },
  {
   "cell_type": "code",
   "execution_count": 12,
   "id": "44ef2494-0a0b-40d4-9404-e9339e006389",
   "metadata": {},
   "outputs": [],
   "source": [
    "class Circulo():\n",
    "\n",
    "    pi = 3.141592\n",
    "    \n",
    "    def __init__(self, raio = 5):\n",
    "        self.raio = raio\n",
    "\n",
    "    def area(self):\n",
    "        return (self.raio**2)*Circulo.pi\n",
    "\n",
    "\n",
    "    def setRaio(self, raio):\n",
    "        self.raio = raio\n",
    "\n",
    "    def getRaio(self):\n",
    "        return self.raio"
   ]
  },
  {
   "cell_type": "code",
   "execution_count": 13,
   "id": "b1ea0c1b-1c19-42f2-9f00-6538dbbc9585",
   "metadata": {},
   "outputs": [
    {
     "data": {
      "text/plain": [
       "5"
      ]
     },
     "execution_count": 13,
     "metadata": {},
     "output_type": "execute_result"
    }
   ],
   "source": [
    "circ = Circulo()\n",
    "circ.getRaio()"
   ]
  },
  {
   "cell_type": "code",
   "execution_count": 14,
   "id": "af1643fb-c021-4958-8911-82a5906544fc",
   "metadata": {},
   "outputs": [
    {
     "data": {
      "text/plain": [
       "78.5398"
      ]
     },
     "execution_count": 14,
     "metadata": {},
     "output_type": "execute_result"
    }
   ],
   "source": [
    "circ.area()"
   ]
  },
  {
   "cell_type": "code",
   "execution_count": 15,
   "id": "cbc3ae7e-c410-46b2-bee8-dfd3ee499e28",
   "metadata": {},
   "outputs": [],
   "source": [
    "circ.setRaio(3.1)"
   ]
  },
  {
   "cell_type": "code",
   "execution_count": 16,
   "id": "3e1c905d-fc8e-4731-99ab-72cc7eb282ae",
   "metadata": {},
   "outputs": [
    {
     "data": {
      "text/plain": [
       "3.1"
      ]
     },
     "execution_count": 16,
     "metadata": {},
     "output_type": "execute_result"
    }
   ],
   "source": [
    "circ.getRaio()"
   ]
  },
  {
   "cell_type": "code",
   "execution_count": 17,
   "id": "28d64ab0-ad05-4cfc-b4d9-663081bc8cee",
   "metadata": {},
   "outputs": [
    {
     "data": {
      "text/plain": [
       "30.190699120000005"
      ]
     },
     "execution_count": 17,
     "metadata": {},
     "output_type": "execute_result"
    }
   ],
   "source": [
    "circ.area()"
   ]
  },
  {
   "cell_type": "code",
   "execution_count": 18,
   "id": "4aed0531-bdf9-4e41-9d09-4f69499a1bfd",
   "metadata": {},
   "outputs": [],
   "source": [
    "class Animal():\n",
    "\n",
    "    def __init__(self):\n",
    "        print('Animal criado!')\n",
    "\n",
    "    def imprimir(self):\n",
    "        print('Este é um animal!')\n",
    "\n",
    "    def comer(self):\n",
    "        print('Hora de comer!')\n",
    "\n",
    "    def emitir_som(self):\n",
    "        pass"
   ]
  },
  {
   "cell_type": "code",
   "execution_count": 19,
   "id": "77e60b83-3fda-450c-9644-62c0eb2f675e",
   "metadata": {},
   "outputs": [],
   "source": [
    "class Cachorro(Animal): # subclasse que herda da classe 'Animal'\n",
    "\n",
    "    def __init__(self):\n",
    "        Animal.__init__(self) # chamando construtor da superclasse\n",
    "        print('Cachorro criado!')\n",
    "\n",
    "    def emitir_som(self): # sobrescrevendo método da superclasse\n",
    "        print('Au Au!')"
   ]
  },
  {
   "cell_type": "code",
   "execution_count": 20,
   "id": "245bd3ac-874d-4010-96ea-00509389d0b9",
   "metadata": {},
   "outputs": [],
   "source": [
    "class Gato(Animal):\n",
    "    \n",
    "    def __init__(self):\n",
    "        Animal.__init__(self)\n",
    "        print('Gato criado!')\n",
    "\n",
    "    def emitir_som(self):\n",
    "        print('Miau!')"
   ]
  },
  {
   "cell_type": "code",
   "execution_count": 21,
   "id": "d01d28f8-40d2-440d-a617-a479dfb20892",
   "metadata": {},
   "outputs": [
    {
     "name": "stdout",
     "output_type": "stream",
     "text": [
      "Animal criado!\n",
      "Cachorro criado!\n",
      "Animal criado!\n",
      "Gato criado!\n"
     ]
    }
   ],
   "source": [
    "rex = Cachorro()\n",
    "zeze = Gato()"
   ]
  },
  {
   "cell_type": "code",
   "execution_count": 22,
   "id": "721efd88-4acc-4487-8c6c-34f18a454e41",
   "metadata": {},
   "outputs": [
    {
     "name": "stdout",
     "output_type": "stream",
     "text": [
      "Hora de comer!\n",
      "Au Au!\n",
      "Este é um animal!\n"
     ]
    }
   ],
   "source": [
    "rex.comer()\n",
    "rex.emitir_som()\n",
    "rex.imprimir()"
   ]
  },
  {
   "cell_type": "code",
   "execution_count": 23,
   "id": "ef989b4a-c1f0-438a-a7fa-c4d4a09ec583",
   "metadata": {},
   "outputs": [
    {
     "name": "stdout",
     "output_type": "stream",
     "text": [
      "Hora de comer!\n",
      "Miau!\n",
      "Este é um animal!\n"
     ]
    }
   ],
   "source": [
    "zeze.comer()\n",
    "zeze.emitir_som()\n",
    "zeze.imprimir()"
   ]
  }
 ],
 "metadata": {
  "kernelspec": {
   "display_name": "Python 3 (ipykernel)",
   "language": "python",
   "name": "python3"
  },
  "language_info": {
   "codemirror_mode": {
    "name": "ipython",
    "version": 3
   },
   "file_extension": ".py",
   "mimetype": "text/x-python",
   "name": "python",
   "nbconvert_exporter": "python",
   "pygments_lexer": "ipython3",
   "version": "3.9.18"
  }
 },
 "nbformat": 4,
 "nbformat_minor": 5
}
