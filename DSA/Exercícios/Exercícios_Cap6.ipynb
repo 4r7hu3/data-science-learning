{
 "cells": [
  {
   "cell_type": "markdown",
   "id": "0bba6ca9-18b0-431e-a158-f326777fc287",
   "metadata": {},
   "source": [
    "# Métodos Especiais"
   ]
  },
  {
   "cell_type": "markdown",
   "id": "b7098c69-1a3c-4dbe-9b76-4a7203688a1b",
   "metadata": {},
   "source": [
    "## Função Map"
   ]
  },
  {
   "cell_type": "code",
   "execution_count": 1,
   "id": "3147b037-4d66-44ac-a4a5-9d67c6ccade3",
   "metadata": {},
   "outputs": [
    {
     "data": {
      "text/plain": [
       "[1, 4, 9, 16, 25, 36]"
      ]
     },
     "execution_count": 1,
     "metadata": {},
     "output_type": "execute_result"
    }
   ],
   "source": [
    "lista = list(range(1,7))\n",
    "\n",
    "list(map(lambda x: x**2, lista)) # mapeia uma função para aplicar em um iterável"
   ]
  },
  {
   "cell_type": "markdown",
   "id": "12ed213c-95e1-468b-88ae-0945e626ffa6",
   "metadata": {},
   "source": [
    "## Função Zip"
   ]
  },
  {
   "cell_type": "code",
   "execution_count": 2,
   "id": "b36d0caf-551d-4c6e-8044-0c91c9c6ee71",
   "metadata": {},
   "outputs": [
    {
     "data": {
      "text/plain": [
       "[(1, True), (2, True), (3, False), (4, True), (5, False)]"
      ]
     },
     "execution_count": 2,
     "metadata": {},
     "output_type": "execute_result"
    }
   ],
   "source": [
    "lista0 = list(range(1,6))\n",
    "lista1 = [True, True, False, True, False]\n",
    "list(zip(lista0, lista1)) # faz o merge de iteráveis"
   ]
  },
  {
   "cell_type": "markdown",
   "id": "1a8d44a2-8c05-4f3e-86e4-d72258e55feb",
   "metadata": {},
   "source": [
    "## Função Filter"
   ]
  },
  {
   "cell_type": "code",
   "execution_count": 3,
   "id": "0ce77b1d-594a-41a0-807f-6f677eea0e68",
   "metadata": {},
   "outputs": [
    {
     "data": {
      "text/plain": [
       "[2, 4, 6]"
      ]
     },
     "execution_count": 3,
     "metadata": {},
     "output_type": "execute_result"
    }
   ],
   "source": [
    "list(filter(lambda x: x%2 == 0, lista)) # filtra objetos de um iterável com base em uma função"
   ]
  },
  {
   "cell_type": "markdown",
   "id": "f67aca76-8771-460c-b6ec-ca7cfc3997d6",
   "metadata": {},
   "source": [
    "## Função Enumerate"
   ]
  },
  {
   "cell_type": "code",
   "execution_count": 4,
   "id": "79a4a57f-ea66-44a6-be64-4812f5424160",
   "metadata": {},
   "outputs": [
    {
     "name": "stdout",
     "output_type": "stream",
     "text": [
      "0 - maçã\n",
      "1 - banana\n",
      "2 - mamão\n",
      "3 - melão\n",
      "4 - kiwi\n",
      "5 - morango\n",
      "\n",
      "[(0, 'maçã'), (1, 'banana'), (2, 'mamão'), (3, 'melão'), (4, 'kiwi'), (5, 'morango')]\n"
     ]
    }
   ],
   "source": [
    "# enumera o índice de um iterável\n",
    "frutas = ['maçã', 'banana', 'mamão', 'melão', 'kiwi', 'morango']\n",
    "for i, j in enumerate(frutas):\n",
    "    print(i, '-', j)\n",
    "\n",
    "print('')\n",
    "\n",
    "print(list(enumerate(frutas)))"
   ]
  },
  {
   "cell_type": "markdown",
   "id": "ff8dcb5e-cc87-4fee-8aad-0335b14703e4",
   "metadata": {},
   "source": [
    "## Função Reduce"
   ]
  },
  {
   "cell_type": "code",
   "execution_count": 5,
   "id": "a02674e4-1c75-4267-b5c1-26c102b0c256",
   "metadata": {},
   "outputs": [
    {
     "name": "stdout",
     "output_type": "stream",
     "text": [
      "113\n",
      "47\n"
     ]
    }
   ],
   "source": [
    "from functools import reduce\n",
    "\n",
    "### Ex1\n",
    "l = [47,11,42,13]\n",
    "print(reduce(lambda x,y: x+y, l))\n",
    "\n",
    "### Ex2\n",
    "a = lambda x,y: x if x>y else y\n",
    "print(reduce(a, l))"
   ]
  },
  {
   "cell_type": "markdown",
   "id": "fcffc85b-dfa4-4202-9fba-5124c8dac2d3",
   "metadata": {},
   "source": [
    "# Erros e Exceções"
   ]
  },
  {
   "cell_type": "code",
   "execution_count": 6,
   "id": "9b293d89-0b28-40ce-b178-d2919901d3a0",
   "metadata": {},
   "outputs": [
    {
     "ename": "TypeError",
     "evalue": "unsupported operand type(s) for +: 'int' and 'str'",
     "output_type": "error",
     "traceback": [
      "\u001b[0;31m---------------------------------------------------------------------------\u001b[0m",
      "\u001b[0;31mTypeError\u001b[0m                                 Traceback (most recent call last)",
      "Cell \u001b[0;32mIn[6], line 1\u001b[0m\n\u001b[0;32m----> 1\u001b[0m \u001b[38;5;241;43m8\u001b[39;49m\u001b[43m \u001b[49m\u001b[38;5;241;43m+\u001b[39;49m\u001b[43m \u001b[49m\u001b[38;5;124;43m'\u001b[39;49m\u001b[38;5;124;43ms\u001b[39;49m\u001b[38;5;124;43m'\u001b[39;49m\n",
      "\u001b[0;31mTypeError\u001b[0m: unsupported operand type(s) for +: 'int' and 'str'"
     ]
    }
   ],
   "source": [
    "8 + 's'"
   ]
  },
  {
   "cell_type": "code",
   "execution_count": 7,
   "id": "8f0a1e32-3041-46a9-80be-393f2f59276a",
   "metadata": {},
   "outputs": [
    {
     "name": "stdout",
     "output_type": "stream",
     "text": [
      "Operação inválida!\n"
     ]
    }
   ],
   "source": [
    "### Ex1\n",
    "try:\n",
    "    8 + 's'\n",
    "except TypeError:\n",
    "    print('Operação inválida!')"
   ]
  },
  {
   "cell_type": "code",
   "execution_count": 8,
   "id": "70dab341-ec76-4b62-8451-66080cc06acd",
   "metadata": {},
   "outputs": [
    {
     "name": "stdin",
     "output_type": "stream",
     "text": [
      "\n",
      "Digite um inteiro:  \n"
     ]
    },
    {
     "name": "stdout",
     "output_type": "stream",
     "text": [
      "\n",
      "Digite algo válido!\n",
      "\n",
      "Fim da execução - tentativa 1.\n",
      "\n",
      "------------------------------\n"
     ]
    },
    {
     "name": "stdin",
     "output_type": "stream",
     "text": [
      "\n",
      "Digite um inteiro:  \n"
     ]
    },
    {
     "name": "stdout",
     "output_type": "stream",
     "text": [
      "\n",
      "Digite algo válido!\n",
      "\n",
      "Fim da execução - tentativa 2.\n",
      "\n",
      "------------------------------\n"
     ]
    },
    {
     "name": "stdin",
     "output_type": "stream",
     "text": [
      "\n",
      "Digite um inteiro:  100\n"
     ]
    },
    {
     "name": "stdout",
     "output_type": "stream",
     "text": [
      "\n",
      "Obrigado!\n",
      "\n",
      "Fim da execução - tentativa 3.\n",
      "\n",
      "------------------------------\n",
      "\n",
      "Número digitado: 100\n",
      "Tentativa: 3\n"
     ]
    }
   ],
   "source": [
    "### Ex2\n",
    "def ask():\n",
    "    i = 0\n",
    "    while True:\n",
    "        try:\n",
    "            val = int(input('\\nDigite um inteiro: '))\n",
    "        except:\n",
    "            print('\\nDigite algo válido!')\n",
    "            i+=1\n",
    "            continue\n",
    "        else:\n",
    "            print('\\nObrigado!')\n",
    "            i+=1\n",
    "            break\n",
    "        finally:\n",
    "            print('\\nFim da execução - tentativa {}.'.format(i))\n",
    "            print('\\n------------------------------')\n",
    "    print('\\nNúmero digitado:', val)\n",
    "    print('Tentativa:', i)\n",
    "\n",
    "ask()"
   ]
  }
 ],
 "metadata": {
  "kernelspec": {
   "display_name": "Python 3 (ipykernel)",
   "language": "python",
   "name": "python3"
  },
  "language_info": {
   "codemirror_mode": {
    "name": "ipython",
    "version": 3
   },
   "file_extension": ".py",
   "mimetype": "text/x-python",
   "name": "python",
   "nbconvert_exporter": "python",
   "pygments_lexer": "ipython3",
   "version": "3.9.18"
  }
 },
 "nbformat": 4,
 "nbformat_minor": 5
}
