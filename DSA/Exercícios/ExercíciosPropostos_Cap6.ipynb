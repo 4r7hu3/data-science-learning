{
 "cells": [
  {
   "cell_type": "markdown",
   "id": "27780ac5-cd68-4d1e-8c8e-0a37323b3f7b",
   "metadata": {},
   "source": [
    "# Questão 1"
   ]
  },
  {
   "cell_type": "code",
   "execution_count": 1,
   "id": "10bc75aa-4659-4f7c-a6a2-a2233244afce",
   "metadata": {},
   "outputs": [
    {
     "data": {
      "text/plain": [
       "[8, 27, 64]"
      ]
     },
     "execution_count": 1,
     "metadata": {},
     "output_type": "execute_result"
    }
   ],
   "source": [
    "lista = [2,3,4]\n",
    "list(map(lambda x: x**3, lista))"
   ]
  },
  {
   "cell_type": "markdown",
   "id": "1888a20f-3a92-4839-831b-5d9e9d19574f",
   "metadata": {},
   "source": [
    "# Questão 2"
   ]
  },
  {
   "cell_type": "code",
   "execution_count": 2,
   "id": "18344dd2-0c32-4ef5-bc41-6c3400bdf348",
   "metadata": {},
   "outputs": [
    {
     "data": {
      "text/plain": [
       "[['A', 'a', 1],\n",
       " ['DATA', 'data', 4],\n",
       " ['SCIENCE', 'science', 7],\n",
       " ['ACADEMY', 'academy', 7],\n",
       " ['OFERCE', 'oferce', 6],\n",
       " ['OS', 'os', 2],\n",
       " ['MELHORES', 'melhores', 8],\n",
       " ['CURSOS', 'cursos', 6],\n",
       " ['DE', 'de', 2],\n",
       " ['ANÁLISE', 'análise', 7],\n",
       " ['DE', 'de', 2],\n",
       " ['DADOS', 'dados', 5],\n",
       " ['DO', 'do', 2],\n",
       " ['BRASIL.', 'brasil.', 7]]"
      ]
     },
     "execution_count": 2,
     "metadata": {},
     "output_type": "execute_result"
    }
   ],
   "source": [
    "palavras = 'A Data Science Academy oferce os melhores cursos de análise de dados do Brasil.'.split()\n",
    "list(map(lambda x: [x.upper(), x.lower(), len(x)], palavras))"
   ]
  },
  {
   "cell_type": "markdown",
   "id": "c9748303-5ab7-4c75-8c69-1d1611da76f4",
   "metadata": {},
   "source": [
    "# Questão 3"
   ]
  },
  {
   "cell_type": "code",
   "execution_count": 3,
   "id": "731c6c96-d76b-42d5-986d-07c80b349749",
   "metadata": {},
   "outputs": [
    {
     "name": "stdout",
     "output_type": "stream",
     "text": [
      "[[1, 3, 5, 7], [2, 4, 6, 8]]\n"
     ]
    }
   ],
   "source": [
    "matrix = [[1, 2],[3,4],[5,6],[7,8]] # 2x4\n",
    "transpose = [[row[i] for row in matrix] for i in range(2)] # 4x2\n",
    "print(transpose)"
   ]
  },
  {
   "cell_type": "markdown",
   "id": "6ee68445-3cbb-4ace-b22d-6466ac37cb61",
   "metadata": {},
   "source": [
    "# Questão 4"
   ]
  },
  {
   "cell_type": "code",
   "execution_count": 4,
   "id": "d5e8c60a-4a63-4108-a8cc-baa16a3cdc72",
   "metadata": {},
   "outputs": [
    {
     "name": "stdout",
     "output_type": "stream",
     "text": [
      "[0, 0]\n",
      "[1, 1]\n",
      "[4, 8]\n",
      "[9, 27]\n",
      "[16, 64]\n"
     ]
    }
   ],
   "source": [
    "lista = [0, 1, 2, 3, 4]\n",
    "op1 = lambda x: x**2\n",
    "op2 = lambda x: x**3\n",
    "\n",
    "for i in lista:\n",
    "    valor = map(lambda x: x(i), [op1,op2])\n",
    "    print(list(valor))"
   ]
  },
  {
   "cell_type": "markdown",
   "id": "d953112e-0bc8-433e-ba51-de0090b82fb9",
   "metadata": {},
   "source": [
    "# Questão 5"
   ]
  },
  {
   "cell_type": "code",
   "execution_count": 5,
   "id": "faea8324-b27d-44e9-91b1-fbd5359047d4",
   "metadata": {},
   "outputs": [
    {
     "data": {
      "text/plain": [
       "[1024, 177147, 16777216]"
      ]
     },
     "execution_count": 5,
     "metadata": {},
     "output_type": "execute_result"
    }
   ],
   "source": [
    "listaA = [2, 3, 4]\n",
    "listaB = [10, 11, 12]\n",
    "\n",
    "[i**j for i,j in zip(listaA,listaB)]"
   ]
  },
  {
   "cell_type": "markdown",
   "id": "7115e12c-2c7d-45b8-a4db-4637e0b71645",
   "metadata": {},
   "source": [
    "# Questão 6"
   ]
  },
  {
   "cell_type": "code",
   "execution_count": 6,
   "id": "30136757-7dd2-40aa-b35f-d664b155864e",
   "metadata": {},
   "outputs": [
    {
     "data": {
      "text/plain": [
       "[-5, -4, -3, -2, -1]"
      ]
     },
     "execution_count": 6,
     "metadata": {},
     "output_type": "execute_result"
    }
   ],
   "source": [
    "list(filter(lambda x: x<0, range(-5,5)))"
   ]
  },
  {
   "cell_type": "markdown",
   "id": "6dc7bdc1-9244-46da-829b-3095e5e51dd4",
   "metadata": {},
   "source": [
    "# Questão 7"
   ]
  },
  {
   "cell_type": "code",
   "execution_count": 7,
   "id": "865c09e6-6dad-4863-85af-37ff664b4607",
   "metadata": {},
   "outputs": [
    {
     "data": {
      "text/plain": [
       "[2, 3, 5, 7]"
      ]
     },
     "execution_count": 7,
     "metadata": {},
     "output_type": "execute_result"
    }
   ],
   "source": [
    "a = [1,2,3,5,7,9]\n",
    "b = [2,3,5,6,7,8]\n",
    "\n",
    "list(filter(lambda x: x in a,b))"
   ]
  },
  {
   "cell_type": "markdown",
   "id": "0f9b7a13-b6b8-4361-a15e-dab361320689",
   "metadata": {},
   "source": [
    "# Questão 8"
   ]
  },
  {
   "cell_type": "code",
   "execution_count": 8,
   "id": "ef106f06-d6b2-4fc8-99f4-37c437556f4e",
   "metadata": {},
   "outputs": [
    {
     "data": {
      "text/plain": [
       "{('a', 4), ('b', 5)}"
      ]
     },
     "execution_count": 8,
     "metadata": {},
     "output_type": "execute_result"
    }
   ],
   "source": [
    "dict1 = {'a':1,'b':2}\n",
    "dict2 = {'c':4,'d':5}\n",
    "\n",
    "dict3 = {(k,v) for k,v in zip(dict1,dict2.values())}\n",
    "dict3"
   ]
  },
  {
   "cell_type": "markdown",
   "id": "4a1b15c0-d28d-4df9-ac03-306385925192",
   "metadata": {},
   "source": [
    "# Questão 9"
   ]
  },
  {
   "cell_type": "code",
   "execution_count": 9,
   "id": "3bf51d8c-97f6-480a-a0e5-b54613530cb8",
   "metadata": {},
   "outputs": [
    {
     "data": {
      "text/plain": [
       "['g', 'h']"
      ]
     },
     "execution_count": 9,
     "metadata": {},
     "output_type": "execute_result"
    }
   ],
   "source": [
    "lista = ['a', 'b', 'c', 'd', 'e', 'f', 'g', 'h']\n",
    "[y for x,y in enumerate(lista) if x>5]"
   ]
  },
  {
   "cell_type": "markdown",
   "id": "1e6bd45f-c1c4-493d-88ba-901694d14be5",
   "metadata": {},
   "source": [
    "# Questão 10"
   ]
  },
  {
   "cell_type": "code",
   "execution_count": 10,
   "id": "fdc6c07c-fe6a-4234-9ccc-797110b62aca",
   "metadata": {},
   "outputs": [
    {
     "data": {
      "text/plain": [
       "['Academy']"
      ]
     },
     "execution_count": 10,
     "metadata": {},
     "output_type": "execute_result"
    }
   ],
   "source": [
    "import re\n",
    "texto = 'A Data Science Academy oferece os melhores cursos de análise de dados do Brasil.'\n",
    "\n",
    "list(re.findall('Data Science (\\w+)', texto))"
   ]
  }
 ],
 "metadata": {
  "kernelspec": {
   "display_name": "Python 3 (ipykernel)",
   "language": "python",
   "name": "python3"
  },
  "language_info": {
   "codemirror_mode": {
    "name": "ipython",
    "version": 3
   },
   "file_extension": ".py",
   "mimetype": "text/x-python",
   "name": "python",
   "nbconvert_exporter": "python",
   "pygments_lexer": "ipython3",
   "version": "3.9.18"
  }
 },
 "nbformat": 4,
 "nbformat_minor": 5
}
