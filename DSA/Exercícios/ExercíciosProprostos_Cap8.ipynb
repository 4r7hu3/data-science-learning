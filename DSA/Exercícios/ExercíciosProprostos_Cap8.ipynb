{
 "cells": [
  {
   "cell_type": "markdown",
   "id": "1c717bfe-1aa9-4677-80b8-fb6f59b93744",
   "metadata": {},
   "source": [
    "# Questão 1"
   ]
  },
  {
   "cell_type": "code",
   "execution_count": 1,
   "id": "baa79702-0480-4788-9b31-ff04a975846c",
   "metadata": {},
   "outputs": [],
   "source": [
    "from math import sqrt\n",
    "\n",
    "class Rocket():\n",
    "     \n",
    "    def __init__(self, x=0, y=0):\n",
    "        self.x = x\n",
    "        self.y = y\n",
    "        \n",
    "    def move_rocket(self, x_increment=0, y_increment=1):\n",
    "        self.x += x_increment\n",
    "        self.y += y_increment\n",
    "        \n",
    "    def print_rocket(self):\n",
    "        print(self.x, self.y)"
   ]
  },
  {
   "cell_type": "code",
   "execution_count": 2,
   "id": "42ed5a02-c934-47be-9993-151c76d21217",
   "metadata": {},
   "outputs": [],
   "source": [
    "Saturn_V = Rocket(5000, 25850.66)"
   ]
  },
  {
   "cell_type": "code",
   "execution_count": 3,
   "id": "e2c88ac8-1574-4291-b291-9ea0adf0308d",
   "metadata": {},
   "outputs": [
    {
     "name": "stdout",
     "output_type": "stream",
     "text": [
      "5000 25850.66\n"
     ]
    }
   ],
   "source": [
    "Saturn_V.print_rocket()"
   ]
  },
  {
   "cell_type": "code",
   "execution_count": 4,
   "id": "7808f8e7-4bd7-445b-85ee-fd8040008ac2",
   "metadata": {},
   "outputs": [
    {
     "name": "stdout",
     "output_type": "stream",
     "text": [
      "7500 25851.0\n"
     ]
    }
   ],
   "source": [
    "Saturn_V.move_rocket(2500, 0.34)\n",
    "Saturn_V.print_rocket()"
   ]
  },
  {
   "cell_type": "markdown",
   "id": "6074d5fb-68f2-43ac-b8bd-7f17140411e8",
   "metadata": {},
   "source": [
    "# Questão 2"
   ]
  },
  {
   "cell_type": "code",
   "execution_count": 5,
   "id": "ff613f78-9d90-4285-9066-febac8998593",
   "metadata": {},
   "outputs": [],
   "source": [
    "class Pessoa():\n",
    "\n",
    "    def __init__(self, nome, idade, telefone, email):\n",
    "        self.nome = nome\n",
    "        self.idade = idade\n",
    "        self.telefone = telefone\n",
    "        self.email = email\n",
    "        print('Construtor executado')\n",
    "\n",
    "    def getNome(self):\n",
    "        return self.nome\n",
    "\n",
    "    def setTelefone(self, telefone):\n",
    "        self.telefone = telefone\n",
    "\n",
    "    def imprime_attr(self):\n",
    "        print('DADOS DA PESSOA')\n",
    "        print('-'*15)\n",
    "        print('Nome: %s\\nIdade: %d\\nTelefone: %s\\ne-mail: %s' %(self.nome, self.idade, self.telefone, self.email))"
   ]
  },
  {
   "cell_type": "code",
   "execution_count": 6,
   "id": "d886b560-b1b0-4551-b26e-026a3e48ab6f",
   "metadata": {},
   "outputs": [
    {
     "name": "stdout",
     "output_type": "stream",
     "text": [
      "Construtor executado\n"
     ]
    }
   ],
   "source": [
    "Pessoa0 = Pessoa('Arthur', 21, '(85) 98502-3883', 'arthursilva.aasdl@gmail.com')"
   ]
  },
  {
   "cell_type": "code",
   "execution_count": 7,
   "id": "5ced55c1-e8a5-4cae-a440-2ade91b2c540",
   "metadata": {},
   "outputs": [
    {
     "name": "stdout",
     "output_type": "stream",
     "text": [
      "DADOS DA PESSOA\n",
      "---------------\n",
      "Nome: Arthur\n",
      "Idade: 21\n",
      "Telefone: (85) 98502-3883\n",
      "e-mail: arthursilva.aasdl@gmail.com\n"
     ]
    }
   ],
   "source": [
    "Pessoa0.imprime_attr()"
   ]
  },
  {
   "cell_type": "code",
   "execution_count": 8,
   "id": "55adbf7a-7c1f-45e0-8273-d420e018b09f",
   "metadata": {},
   "outputs": [
    {
     "data": {
      "text/plain": [
       "'Arthur'"
      ]
     },
     "execution_count": 8,
     "metadata": {},
     "output_type": "execute_result"
    }
   ],
   "source": [
    "Pessoa0.getNome()"
   ]
  },
  {
   "cell_type": "code",
   "execution_count": 9,
   "id": "1d635ce0-0e04-4f22-bc4b-2afa9671ce4e",
   "metadata": {},
   "outputs": [],
   "source": [
    "Pessoa0.setTelefone('(00) 0000-0000')"
   ]
  },
  {
   "cell_type": "code",
   "execution_count": 10,
   "id": "e1130f3c-9ec0-4c4e-866e-2c71f9cd831e",
   "metadata": {},
   "outputs": [
    {
     "data": {
      "text/plain": [
       "'(00) 0000-0000'"
      ]
     },
     "execution_count": 10,
     "metadata": {},
     "output_type": "execute_result"
    }
   ],
   "source": [
    "Pessoa0.telefone"
   ]
  },
  {
   "cell_type": "code",
   "execution_count": 11,
   "id": "477251c7-7eb2-47dc-bf63-182726a14dae",
   "metadata": {
    "scrolled": true
   },
   "outputs": [
    {
     "data": {
      "text/plain": [
       "21"
      ]
     },
     "execution_count": 11,
     "metadata": {},
     "output_type": "execute_result"
    }
   ],
   "source": [
    "Pessoa0.idade"
   ]
  },
  {
   "cell_type": "markdown",
   "id": "d6498b23-45b2-4030-a81f-e6546922c906",
   "metadata": {},
   "source": [
    "# Questão 3"
   ]
  },
  {
   "cell_type": "code",
   "execution_count": 12,
   "id": "44cd0cad-2dd2-4e1e-a7ab-a41265402717",
   "metadata": {},
   "outputs": [],
   "source": [
    "class Smartphone():\n",
    "\n",
    "    def __init__(self, tamanho, interface):\n",
    "        self.tamanho = tamanho\n",
    "        self.interface = interface\n",
    "\n",
    "class MP3Player(Smartphone):\n",
    "\n",
    "    def __init__(self, capacidade, tamanho = 2.5, interface  = 'MAC-OS'):\n",
    "        Smartphone.__init__(self, tamanho, interface)\n",
    "        self.capacidade = capacidade\n",
    "\n",
    "    def specs(self):\n",
    "        print('SPecs')\n",
    "        print('\\nCapacidade: %.1f' %(self.capacidade))\n",
    "        print('Tamanho: %.1f' %(self.tamanho))\n",
    "        print('Interface: %s' %(self.interface))"
   ]
  },
  {
   "cell_type": "code",
   "execution_count": 13,
   "id": "6c72c621-3dc5-478b-94da-4be0d56e63a8",
   "metadata": {},
   "outputs": [],
   "source": [
    "Ipod = MP3Player(2.5)"
   ]
  },
  {
   "cell_type": "code",
   "execution_count": 14,
   "id": "9399a1cb-cbfd-4cf3-aeee-90855a6b0cc7",
   "metadata": {},
   "outputs": [
    {
     "name": "stdout",
     "output_type": "stream",
     "text": [
      "SPecs\n",
      "\n",
      "Capacidade: 2.5\n",
      "Tamanho: 2.5\n",
      "Interface: MAC-OS\n"
     ]
    }
   ],
   "source": [
    "Ipod.specs()"
   ]
  },
  {
   "cell_type": "code",
   "execution_count": 15,
   "id": "eeffae07-86c4-4409-a18e-ba8f49cf9c47",
   "metadata": {},
   "outputs": [
    {
     "name": "stdout",
     "output_type": "stream",
     "text": [
      "SPecs\n",
      "\n",
      "Capacidade: 25500.0\n",
      "Tamanho: 3.0\n",
      "Interface: Oxygen-OS\n"
     ]
    }
   ],
   "source": [
    "Xii = MP3Player(25500, 3, 'Oxygen-OS')\n",
    "Xii.specs()"
   ]
  }
 ],
 "metadata": {
  "kernelspec": {
   "display_name": "Python 3 (ipykernel)",
   "language": "python",
   "name": "python3"
  },
  "language_info": {
   "codemirror_mode": {
    "name": "ipython",
    "version": 3
   },
   "file_extension": ".py",
   "mimetype": "text/x-python",
   "name": "python",
   "nbconvert_exporter": "python",
   "pygments_lexer": "ipython3",
   "version": "3.9.18"
  }
 },
 "nbformat": 4,
 "nbformat_minor": 5
}
