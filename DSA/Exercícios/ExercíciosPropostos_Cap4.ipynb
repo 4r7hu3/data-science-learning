{
 "cells": [
  {
   "cell_type": "markdown",
   "id": "9538db9a-3e53-4a0d-a36b-6a5cb36d9bce",
   "metadata": {},
   "source": [
    "## Questão 1"
   ]
  },
  {
   "cell_type": "code",
   "execution_count": 1,
   "id": "25931651-9ca6-4d76-91ad-5219e8ad0de9",
   "metadata": {},
   "outputs": [
    {
     "data": {
      "text/plain": [
       "[1, 2, 3, 4, 5, 6, 7, 8, 9, 10]"
      ]
     },
     "execution_count": 1,
     "metadata": {},
     "output_type": "execute_result"
    }
   ],
   "source": [
    "nums = list(range(1,11))\n",
    "nums"
   ]
  },
  {
   "cell_type": "markdown",
   "id": "98cc752f-0c98-4663-93ef-e2b990a9b59f",
   "metadata": {},
   "source": [
    "## Questão 2"
   ]
  },
  {
   "cell_type": "code",
   "execution_count": 2,
   "id": "49ec3bb6-978d-41fc-9aa1-bc875565bcdb",
   "metadata": {},
   "outputs": [
    {
     "data": {
      "text/plain": [
       "['Arthur', 21, 1.65, True, 0]"
      ]
     },
     "execution_count": 2,
     "metadata": {},
     "output_type": "execute_result"
    }
   ],
   "source": [
    "l = [\"Arthur\", 21, 1.65, True, 0]\n",
    "l"
   ]
  },
  {
   "cell_type": "markdown",
   "id": "afa79f5c-3f75-4bc3-b9ba-9f2ea529a9e4",
   "metadata": {},
   "source": [
    "## Questão 3"
   ]
  },
  {
   "cell_type": "code",
   "execution_count": 3,
   "id": "7228b3ae-a4ad-4d2c-9c12-dc1369fc5362",
   "metadata": {},
   "outputs": [
    {
     "data": {
      "text/plain": [
       "'Arthur Silva'"
      ]
     },
     "execution_count": 3,
     "metadata": {},
     "output_type": "execute_result"
    }
   ],
   "source": [
    "str1 = 'Arthur'\n",
    "str2 = 'Silva'\n",
    "str3 = str1 + ' ' + str2\n",
    "str3"
   ]
  },
  {
   "cell_type": "markdown",
   "id": "18a2cf9e-ce62-45a7-b69e-ade5d7e09bb9",
   "metadata": {},
   "source": [
    "## Questão 4"
   ]
  },
  {
   "cell_type": "code",
   "execution_count": 4,
   "id": "0014a98e-d43e-4b4b-9bf4-efb2d2fc6964",
   "metadata": {},
   "outputs": [
    {
     "data": {
      "text/plain": [
       "3"
      ]
     },
     "execution_count": 4,
     "metadata": {},
     "output_type": "execute_result"
    }
   ],
   "source": [
    "t = (1,2,2,3,4,4,4,5)\n",
    "t.count(4)"
   ]
  },
  {
   "cell_type": "markdown",
   "id": "dabbe2eb-a0e8-4b17-8e42-d97b2fa15f9a",
   "metadata": {},
   "source": [
    "## Questão 5"
   ]
  },
  {
   "cell_type": "code",
   "execution_count": 5,
   "id": "4db975ed-4c0c-4124-8708-6b34b26e200a",
   "metadata": {},
   "outputs": [
    {
     "data": {
      "text/plain": [
       "{}"
      ]
     },
     "execution_count": 5,
     "metadata": {},
     "output_type": "execute_result"
    }
   ],
   "source": [
    "d = {}\n",
    "d"
   ]
  },
  {
   "cell_type": "markdown",
   "id": "cd1c8785-4ea8-4dbd-8976-c1b63f980566",
   "metadata": {},
   "source": [
    "## Questão 6"
   ]
  },
  {
   "cell_type": "code",
   "execution_count": 6,
   "id": "6e4dd896-896f-4e64-8ec1-68ec0149ab6b",
   "metadata": {},
   "outputs": [
    {
     "data": {
      "text/plain": [
       "{'Nome': 'Arthur', 'Idade': 21, 'Solteiro': False}"
      ]
     },
     "execution_count": 6,
     "metadata": {},
     "output_type": "execute_result"
    }
   ],
   "source": [
    "d2 = {'Nome':'Arthur', 'Idade':21, 'Solteiro':False}\n",
    "d2"
   ]
  },
  {
   "cell_type": "markdown",
   "id": "edc038c1-2b15-4b7e-b792-d03aecd098e2",
   "metadata": {},
   "source": [
    "## Questão 7"
   ]
  },
  {
   "cell_type": "code",
   "execution_count": 7,
   "id": "68ffc795-c21d-4a82-bafc-e3141c340b89",
   "metadata": {},
   "outputs": [
    {
     "data": {
      "text/plain": [
       "{'Nome': 'Arthur', 'Idade': 21, 'Solteiro': False, 'Altura': 1.65}"
      ]
     },
     "execution_count": 7,
     "metadata": {},
     "output_type": "execute_result"
    }
   ],
   "source": [
    "d3 = {'Altura':1.65}\n",
    "d2.update(d3)\n",
    "d2"
   ]
  },
  {
   "cell_type": "markdown",
   "id": "b5319371-345b-4225-ac74-88e3ce5f2f49",
   "metadata": {},
   "source": [
    "## Questão 8"
   ]
  },
  {
   "cell_type": "code",
   "execution_count": 8,
   "id": "cf46e64c-30b2-4493-bb3e-eb1cfbd55dd0",
   "metadata": {},
   "outputs": [
    {
     "data": {
      "text/plain": [
       "{'Fulano': 1, 'Beltrano': [1, 2], 'Sicrano': 2}"
      ]
     },
     "execution_count": 8,
     "metadata": {},
     "output_type": "execute_result"
    }
   ],
   "source": [
    "d4 = {\"Fulano\":1, 'Beltrano':[1,2], 'Sicrano':2}\n",
    "d4"
   ]
  },
  {
   "cell_type": "markdown",
   "id": "f63ee9dd-1460-4479-894a-626b3050d829",
   "metadata": {},
   "source": [
    "## Questão 9"
   ]
  },
  {
   "cell_type": "code",
   "execution_count": 9,
   "id": "d560a493-585d-45df-a69f-e0607a4ea078",
   "metadata": {},
   "outputs": [
    {
     "data": {
      "text/plain": [
       "['string', ('el1', 'el2'), {'chave1': 'val1', 'chave2': 'val2'}, 1.65]"
      ]
     },
     "execution_count": 9,
     "metadata": {},
     "output_type": "execute_result"
    }
   ],
   "source": [
    "l2 = ['string', ('el1', 'el2'), {'chave1':'val1', 'chave2':'val2'}, 1.65]\n",
    "l2"
   ]
  },
  {
   "cell_type": "markdown",
   "id": "7bab88bf-b77e-4f99-8e2e-7e632804833f",
   "metadata": {},
   "source": [
    "## Questão 10"
   ]
  },
  {
   "cell_type": "code",
   "execution_count": 10,
   "id": "156db05e-deca-4654-a249-15ae864c3568",
   "metadata": {},
   "outputs": [
    {
     "data": {
      "text/plain": [
       "'Cientista de Dados'"
      ]
     },
     "execution_count": 10,
     "metadata": {},
     "output_type": "execute_result"
    }
   ],
   "source": [
    "frase = 'Cientista de Dados é o profissional mais sexy do século XXI'\n",
    "frase[:18]"
   ]
  }
 ],
 "metadata": {
  "kernelspec": {
   "display_name": "Python 3 (ipykernel)",
   "language": "python",
   "name": "python3"
  },
  "language_info": {
   "codemirror_mode": {
    "name": "ipython",
    "version": 3
   },
   "file_extension": ".py",
   "mimetype": "text/x-python",
   "name": "python",
   "nbconvert_exporter": "python",
   "pygments_lexer": "ipython3",
   "version": "3.9.18"
  }
 },
 "nbformat": 4,
 "nbformat_minor": 5
}
