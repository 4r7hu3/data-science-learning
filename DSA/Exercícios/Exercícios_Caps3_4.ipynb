{
 "cells": [
  {
   "cell_type": "markdown",
   "id": "efb28e45-8207-4379-80a2-bc169836c7e4",
   "metadata": {},
   "source": [
    "# Relembrando os fundamentos"
   ]
  },
  {
   "cell_type": "markdown",
   "id": "fcf8a19c-f520-4d4d-8320-0d84af66c3c3",
   "metadata": {},
   "source": [
    "## Código 0 - paralelogramos"
   ]
  },
  {
   "cell_type": "code",
   "execution_count": 1,
   "id": "a9b91163-fd07-4b61-b5b6-e0557c2ab8fc",
   "metadata": {},
   "outputs": [
    {
     "name": "stdin",
     "output_type": "stream",
     "text": [
      "Digite a base da forma:  2\n",
      "Digite a altura da forma:  3\n"
     ]
    },
    {
     "name": "stdout",
     "output_type": "stream",
     "text": [
      "\n",
      "A área da figura é de 6.0 m2\n"
     ]
    }
   ],
   "source": [
    "base = float(input('Digite a base da forma: '))\n",
    "altura = float(input('Digite a altura da forma: '))\n",
    "area = base * altura\n",
    "\n",
    "print('\\nA área da figura é de {:.1f} m2'.format(area))"
   ]
  },
  {
   "cell_type": "markdown",
   "id": "57bbb727-b841-448a-b9ed-41988a0a14b7",
   "metadata": {},
   "source": [
    "## Código 1 - calculadora simples"
   ]
  },
  {
   "cell_type": "code",
   "execution_count": 2,
   "id": "e8afec52-a3d4-4b38-98d8-51e00caece56",
   "metadata": {},
   "outputs": [
    {
     "name": "stdin",
     "output_type": "stream",
     "text": [
      "Digite o 1º número:  2\n",
      "Digite o 2º número:  2.1\n"
     ]
    },
    {
     "name": "stdout",
     "output_type": "stream",
     "text": [
      "\n",
      "A+b = 4.10 \n",
      "A-B = -0.10 \n",
      "AxB = 4.20 \n",
      "A/B = 0.95\n"
     ]
    }
   ],
   "source": [
    "numA = float(input('Digite o 1º número: '))\n",
    "numB = float(input('Digite o 2º número: '))\n",
    "\n",
    "print(\"\\nA+b = {:.2f} \\nA-B = {:.2f} \\nAxB = {:.2f} \\nA/B = {:.2f}\".format(numA+numB, numA-numB, numA*numB, numA/numB))"
   ]
  },
  {
   "cell_type": "markdown",
   "id": "b75d60ea-b10a-4213-aeff-16f22dc4935d",
   "metadata": {},
   "source": [
    "## Código 2 - bubble sort"
   ]
  },
  {
   "cell_type": "code",
   "execution_count": 3,
   "id": "d4cbe7a8-d719-4888-b09d-9a74e5d56d65",
   "metadata": {},
   "outputs": [
    {
     "name": "stdout",
     "output_type": "stream",
     "text": [
      "[3, 6, 7, 12, 20]\n",
      "[-7, -3, 7, 8, 16, 20]\n"
     ]
    }
   ],
   "source": [
    "def bubble_sort(ls):\n",
    "    \n",
    "    size = len(ls)\n",
    "\n",
    "    for i in range(size):\n",
    "        for j in range(size-1):\n",
    "            if ls[j] > ls[j+1]:\n",
    "                ls[j], ls[j+1] = ls[j+1], ls[j]\n",
    "\n",
    "    return ls\n",
    "\n",
    "\n",
    "# testando\n",
    "nums = [6,3,20,7,12]\n",
    "nums2 = [-3,20,-7,16,8,7]\n",
    "\n",
    "print(bubble_sort(nums))\n",
    "print(bubble_sort(nums2))"
   ]
  },
  {
   "cell_type": "markdown",
   "id": "4df813f0-4cdf-45a2-9b4d-a91aa973fbed",
   "metadata": {},
   "source": [
    "## Testes - trabalhando com strings"
   ]
  },
  {
   "cell_type": "code",
   "execution_count": 4,
   "id": "00212fdd-4b66-4722-8bab-4c75a0fc7a55",
   "metadata": {},
   "outputs": [],
   "source": [
    "a = 'Arthur'"
   ]
  },
  {
   "cell_type": "code",
   "execution_count": 5,
   "id": "4d6e4600-de8d-4f00-82cc-22bb36e8c9ba",
   "metadata": {},
   "outputs": [
    {
     "name": "stdout",
     "output_type": "stream",
     "text": [
      "A - índice 0\n",
      "r - índice 1\n",
      "t - índice 2\n",
      "h - índice 3\n",
      "u - índice 4\n",
      "r - índice 5\n"
     ]
    }
   ],
   "source": [
    "# indexação\n",
    "for i in range(len(a)):\n",
    "    print(a[i] + ' - índice ' + str(i))"
   ]
  },
  {
   "cell_type": "code",
   "execution_count": 6,
   "id": "db415268-245e-4fbc-967f-bb28d3d9dab0",
   "metadata": {},
   "outputs": [
    {
     "name": "stdout",
     "output_type": "stream",
     "text": [
      "r\n",
      "h\n"
     ]
    }
   ],
   "source": [
    "# de trás para frente\n",
    "print(a[-5])\n",
    "print(a[-3])"
   ]
  },
  {
   "cell_type": "code",
   "execution_count": 7,
   "id": "a5c7edd9-fa32-4fc3-bc01-90858535a0d5",
   "metadata": {},
   "outputs": [
    {
     "name": "stdout",
     "output_type": "stream",
     "text": [
      "rthur\n",
      "Art\n",
      "Arthu\n",
      "Arthu\n",
      "Art\n"
     ]
    }
   ],
   "source": [
    "# slicing\n",
    "print(a[1:]) # segunda letra em diante\n",
    "print(a[:3]) # até a terceira letra (exclui o índice 3)\n",
    "print(a[:5]) # até a quinta letra (exclui o índice 5)\n",
    "print(a[:-1]) # tudo, exceto a última letra\n",
    "print(a[:-3]) # tudo, exceto as 3 últimas letras"
   ]
  },
  {
   "cell_type": "code",
   "execution_count": 8,
   "id": "7c401eef-5cbf-4866-b3af-e7f4362e5a6e",
   "metadata": {},
   "outputs": [
    {
     "name": "stdout",
     "output_type": "stream",
     "text": [
      "Arthur\n",
      "Atu\n",
      "Ah\n",
      "rt\n",
      "ruhtrA\n"
     ]
    }
   ],
   "source": [
    "# slicing com intervalo\n",
    "print(a)\n",
    "print(a[::2]) # dois em dois\n",
    "print(a[::3]) # três em três\n",
    "print(a[::-3]) # três em três inverso\n",
    "print(a[::-1]) # inverte a palavra"
   ]
  },
  {
   "cell_type": "code",
   "execution_count": 9,
   "id": "04b43e4b-76ad-4431-9d1a-a1bd78b87229",
   "metadata": {},
   "outputs": [
    {
     "name": "stdout",
     "output_type": "stream",
     "text": [
      "ARTHUR\n",
      "arthur\n",
      "Arthur\n",
      "2\n",
      "['A', 'THU', '']\n",
      "Arthur Silva\n",
      "False\n"
     ]
    }
   ],
   "source": [
    "# funções built-in\n",
    "print(a.upper()) # caixa alta\n",
    "\n",
    "a = a.upper()\n",
    "\n",
    "print(a.lower()) # caixa baixa\n",
    "print(a.capitalize()) # capitalizado\n",
    "\n",
    "print(a.count('R')) # conta caracteres\n",
    "print(a.split('R')) # divide a string baseado num caractere e retorna uma lista\n",
    "\n",
    "a = 'Arthur Silva   '\n",
    "\n",
    "print(a.strip()) # remove espaços em branco desnecessários\n",
    "print(a.endswith('a')) # verifica o fim da string"
   ]
  },
  {
   "cell_type": "markdown",
   "id": "36057dfd-6ccf-4c6d-86df-42e897f7cace",
   "metadata": {},
   "source": [
    "## Testes - trabalhando com listas"
   ]
  },
  {
   "cell_type": "code",
   "execution_count": 10,
   "id": "eba49b58-f5ce-44d4-a410-274792d73f56",
   "metadata": {},
   "outputs": [
    {
     "name": "stdout",
     "output_type": "stream",
     "text": [
      "103\n",
      "2\n",
      "[2, 6, 9, 20, 103, 99, 100]\n",
      "[2, 6, 9, 20, 103, 99, 100, 1, 3, 4]\n",
      "[2, 5, 6, 9, 20, 103, 99, 100, 1, 3, 4]\n",
      "7\n",
      "[2, 5, 6, 9, 20, 99, 100, 1, 3, 4]\n",
      "[4, 3, 1, 100, 99, 20, 9, 6, 5, 2]\n",
      "[1, 2, 3, 4, 5, 6, 9, 20, 99, 100]\n"
     ]
    }
   ],
   "source": [
    "# funções built-in\n",
    "lista = [2,6,9,20,103,99]\n",
    "\n",
    "print(max(lista)) # máximo da lista\n",
    "print(min(lista)) # mínimo da lista\n",
    "lista.append(100) # adiciona elemento na lista\n",
    "print(lista)\n",
    "\n",
    "lista2 = [1,3,4]\n",
    "\n",
    "lista.extend(lista2) # concatena duas listas (pode ser a+b)\n",
    "print(lista)\n",
    "\n",
    "lista.insert(1,5) # insere elemento em dada posição na lista\n",
    "print(lista)\n",
    "\n",
    "print(lista.index(100)) # retorna o índice de um elemento da lista\n",
    "\n",
    "lista.remove(103) # remove um elemento da lista\n",
    "print(lista)\n",
    "\n",
    "lista.reverse() # inverte a ordem dos elementos da lista\n",
    "print(lista)\n",
    "\n",
    "lista.sort() # ordena a lista\n",
    "print(lista)"
   ]
  },
  {
   "cell_type": "markdown",
   "id": "5d911622-57ae-47a5-aab4-d3df3535f7b3",
   "metadata": {},
   "source": [
    "## Testes - trabalhando com dicionários"
   ]
  },
  {
   "cell_type": "code",
   "execution_count": 11,
   "id": "36f99aef-111e-4ce0-8b81-6b73aab8f283",
   "metadata": {},
   "outputs": [],
   "source": [
    "nomes_id = {'Fulano':12, 'Beltrano':23, 'Sicrano':4}"
   ]
  },
  {
   "cell_type": "code",
   "execution_count": 12,
   "id": "c1dabf2f-a36f-4ca0-9ff1-8b54fc9aab6b",
   "metadata": {},
   "outputs": [
    {
     "name": "stdout",
     "output_type": "stream",
     "text": [
      "23\n",
      "{'Fulano': 12, 'Beltrano': 23, 'Sicrano': 4, 'Aluado': 30}\n",
      "{}\n",
      "dict_keys(['Fulano', 'Beltrano', 'Sicrano'])\n",
      "dict_values([12, 23, 4])\n",
      "dict_items([('Fulano', 12), ('Beltrano', 23), ('Sicrano', 4)])\n",
      "{'Fulano': 12, 'Beltrano': 23, 'Sicrano': 4, 'Rabixo': 50, 'Almofadinhas': 35}\n",
      "{'Fulano': 12, 'Beltrano': 23, 'Sicrano': 4, 'Rabixo': 55, 'Almofadinhas': 35}\n"
     ]
    }
   ],
   "source": [
    "print(nomes_id['Beltrano']) # pesquisando a chave\n",
    "\n",
    "nomes_id['Aluado'] = 30 # adicionando nova chave-valor\n",
    "print(nomes_id)\n",
    "\n",
    "nomes_id.clear() # limpa o dicionário\n",
    "print(nomes_id)\n",
    "\n",
    "nomes_id = {'Fulano':12, 'Beltrano':23, 'Sicrano':4}\n",
    "\n",
    "print(nomes_id.keys()) # chaves do dicionário\n",
    "print(nomes_id.values()) # valores do dicionário\n",
    "print(nomes_id.items()) # cojunto chave-valor do dicionário\n",
    "\n",
    "up = {'Rabixo':50, 'Almofadinhas':35}\n",
    "\n",
    "nomes_id.update(up) # atualizando o dicionário\n",
    "print(nomes_id)\n",
    "\n",
    "nomes_id['Rabixo'] += 5 # atualizando valor com operação\n",
    "print(nomes_id)"
   ]
  }
 ],
 "metadata": {
  "kernelspec": {
   "display_name": "Python 3 (ipykernel)",
   "language": "python",
   "name": "python3"
  },
  "language_info": {
   "codemirror_mode": {
    "name": "ipython",
    "version": 3
   },
   "file_extension": ".py",
   "mimetype": "text/x-python",
   "name": "python",
   "nbconvert_exporter": "python",
   "pygments_lexer": "ipython3",
   "version": "3.9.18"
  }
 },
 "nbformat": 4,
 "nbformat_minor": 5
}
